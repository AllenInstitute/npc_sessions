{
 "cells": [
  {
   "cell_type": "code",
   "execution_count": null,
   "metadata": {},
   "outputs": [],
   "source": [
    "%matplotlib inline\n",
    "import os\n",
    "import pprint\n",
    "\n",
    "import npc_sessions"
   ]
  },
  {
   "cell_type": "code",
   "execution_count": null,
   "metadata": {},
   "outputs": [],
   "source": [
    "# get input arguments from environment variables:\n",
    "env = os.environ\n",
    "session_path_or_id = env.pop('NPC_SESSION_PATH_OR_ID')\n",
    "session_kwargs = {\n",
    "    k.replace('NPC_SESSION_', '').lower(): eval(v)\n",
    "    for k, v in env.items()\n",
    "    if k.startswith('NPC_SESSION_')\n",
    "}\n",
    "\n",
    "session = npc_sessions.DynamicRoutingSession(\n",
    "    session_path_or_id,\n",
    "    **session_kwargs,\n",
    ")\n",
    "\n",
    "print(f\"input:\\n{session_path_or_id = }\")\n",
    "pprint.pprint(session_kwargs)"
   ]
  },
  {
   "cell_type": "markdown",
   "metadata": {},
   "source": [
    "## behavior"
   ]
  },
  {
   "cell_type": "code",
   "execution_count": null,
   "metadata": {},
   "outputs": [],
   "source": [
    "session.plot_performance_by_block()\n",
    "session.plot_first_lick_latency_hist()\n",
    "session.plot_lick_raster()\n",
    "session.plot_running();"
   ]
  },
  {
   "cell_type": "markdown",
   "metadata": {},
   "source": [
    "# Sync"
   ]
  },
  {
   "cell_type": "code",
   "execution_count": null,
   "metadata": {},
   "outputs": [],
   "source": [
    "if session.is_sync:\n",
    "    session.plot_bad_lick_times()\n",
    "    session.plot_lick_times_on_sync_and_script()\n",
    "    session.plot_reward_times();"
   ]
  },
  {
   "cell_type": "markdown",
   "metadata": {},
   "source": [
    "### barcodes"
   ]
  },
  {
   "cell_type": "markdown",
   "metadata": {},
   "source": [
    "get barcode intervals for each probe"
   ]
  },
  {
   "cell_type": "markdown",
   "metadata": {},
   "source": [
    "Plot barcode intervals for sync and for each probe after sample rate correction"
   ]
  },
  {
   "cell_type": "code",
   "execution_count": null,
   "metadata": {},
   "outputs": [],
   "source": [
    "if session.is_ephys:\n",
    "    session.plot_barcode_times()\n",
    "    session.plot_barcode_intervals();"
   ]
  },
  {
   "cell_type": "markdown",
   "metadata": {},
   "source": [
    "## stim timing"
   ]
  },
  {
   "cell_type": "markdown",
   "metadata": {},
   "source": [
    "Plot vsync times and diode flips for the beginnings and ends of each stimulus epoch"
   ]
  },
  {
   "cell_type": "code",
   "execution_count": null,
   "metadata": {},
   "outputs": [],
   "source": [
    "if session.is_sync:\n",
    "    session.plot_diode_flip_intervals()\n",
    "    session.plot_histogram_of_vsync_intervals()\n",
    "    session.plot_vsyncs_and_diode_flips_at_ends_of_each_stim()\n",
    "    session.plot_long_vsyncs_distribution_across_trial();"
   ]
  },
  {
   "cell_type": "markdown",
   "metadata": {},
   "source": [
    "plot histogram of vsync intervals\n",
    "TO DO: add histogram of diode flip intervals"
   ]
  },
  {
   "cell_type": "markdown",
   "metadata": {},
   "source": [
    "Plot indicating where long frames happened relative to stim times during task"
   ]
  },
  {
   "cell_type": "markdown",
   "metadata": {},
   "source": [
    "Generate report indicating how many long frames we got and whether there were weird things with the diode (vsync number vs diode flip number, how many blips we got on the diode line etc)"
   ]
  },
  {
   "cell_type": "markdown",
   "metadata": {},
   "source": [
    "Plot sound latencies/durations across session"
   ]
  },
  {
   "cell_type": "markdown",
   "metadata": {},
   "source": [
    "# MVR"
   ]
  },
  {
   "cell_type": "markdown",
   "metadata": {},
   "source": [
    "Plot frames taken across session"
   ]
  },
  {
   "cell_type": "markdown",
   "metadata": {},
   "source": [
    "Show a few frames around lick times in `trials.response_time`"
   ]
  },
  {
   "cell_type": "markdown",
   "metadata": {},
   "source": [
    "Verify frame times can be found on sync: generate report describing frame rate/lost frames/discrepancy between frames expected from sync and frames in video"
   ]
  },
  {
   "cell_type": "code",
   "execution_count": null,
   "metadata": {},
   "outputs": [],
   "source": [
    "if session.is_video:\n",
    "    session.plot_camera_frame_grabs_simple()\n",
    "    session.plot_video_info()\n",
    "    if not any(session.trials[:].query(\"is_response\")):\n",
    "        session.plot_video_frames_with_licks(lick_time=session['processing']['behavior']['licks'][0]);\n",
    "        session.plot_video_frames_with_licks(lick_time=session['processing']['behavior']['licks'][-1]);\n",
    "    else:\n",
    "        session.plot_video_frames_with_licks();"
   ]
  },
  {
   "cell_type": "markdown",
   "metadata": {},
   "source": [
    "## Recording Quality"
   ]
  },
  {
   "cell_type": "markdown",
   "metadata": {},
   "source": [
    "Drift raster for each probe"
   ]
  },
  {
   "cell_type": "markdown",
   "metadata": {},
   "source": [
    "Quality metric histograms for each probe (isi violoations, amplitude cutoff, drift ptp)"
   ]
  },
  {
   "cell_type": "markdown",
   "metadata": {},
   "source": [
    "all spike histograms for each probe"
   ]
  },
  {
   "cell_type": "markdown",
   "metadata": {},
   "source": [
    "Cumulative reward volume over session"
   ]
  },
  {
   "cell_type": "markdown",
   "metadata": {},
   "source": [
    "## Basic Sync Report"
   ]
  },
  {
   "cell_type": "markdown",
   "metadata": {},
   "source": [
    "Generate report showing 1) number of edges, 2) median edge interval 3) overall edge frequency for each data line in sync file"
   ]
  },
  {
   "cell_type": "markdown",
   "metadata": {},
   "source": []
  },
  {
   "cell_type": "markdown",
   "metadata": {},
   "source": [
    "# Spikes"
   ]
  },
  {
   "cell_type": "code",
   "execution_count": null,
   "metadata": {},
   "outputs": [],
   "source": [
    "if session.is_sorted:\n",
    "    session.plot_all_unit_spike_histograms()    \n",
    "    session.plot_drift_maps()\n",
    "    session.plot_unit_quality_metrics_per_probe();"
   ]
  }
 ],
 "metadata": {
  "kernelspec": {
   "display_name": "Python 3.11.4 ('npc_sessions')",
   "language": "python",
   "name": "python3"
  },
  "language_info": {
   "codemirror_mode": {
    "name": "ipython",
    "version": 3
   },
   "file_extension": ".py",
   "mimetype": "text/x-python",
   "name": "python",
   "nbconvert_exporter": "python",
   "pygments_lexer": "ipython3",
   "version": "3.11.3"
  },
  "orig_nbformat": 4,
  "vscode": {
   "interpreter": {
    "hash": "9ec83c3f857dcc2abca66b519bdf8c0c7b61bc788849117c28e9ccf4914a1f09"
   }
  }
 },
 "nbformat": 4,
 "nbformat_minor": 2
}
