{
 "cells": [
  {
   "cell_type": "code",
   "execution_count": null,
   "metadata": {},
   "outputs": [],
   "source": [
    "import matplotlib.pyplot as plt\n",
    "import numpy as np\n",
    "import random\n",
    "import npc_sessions\n",
    "import polars as pl\n",
    "import pandas as pd"
   ]
  },
  {
   "cell_type": "code",
   "execution_count": null,
   "metadata": {},
   "outputs": [],
   "source": [
    "units = npc_sessions.get_units_electrodes_spike_times('668755_20230831').to_pandas()\n",
    "units['device_name'].unique()"
   ]
  },
  {
   "cell_type": "code",
   "execution_count": null,
   "metadata": {},
   "outputs": [],
   "source": [
    "mean_waveforms = npc_sessions.get_mean_waveforms('662892_20230821')\n",
    "#sd_waveforms = npc_sessions.get_sd_waveforms('662892_20230821')"
   ]
  },
  {
   "cell_type": "code",
   "execution_count": null,
   "metadata": {},
   "outputs": [],
   "source": [
    "mean_waveforms[2].shape"
   ]
  },
  {
   "cell_type": "code",
   "execution_count": null,
   "metadata": {},
   "outputs": [],
   "source": [
    "plt.plot(mean_waveforms[0])"
   ]
  },
  {
   "cell_type": "code",
   "execution_count": null,
   "metadata": {},
   "outputs": [],
   "source": [
    "plt.plot(sd_waveforms[0])"
   ]
  },
  {
   "cell_type": "code",
   "execution_count": null,
   "metadata": {},
   "outputs": [],
   "source": [
    "spike_times = npc_sessions.get_unit_spike_times_dict('636766_20230124', tuple(units['unit_name']))\n",
    "spike_times"
   ]
  },
  {
   "cell_type": "code",
   "execution_count": null,
   "metadata": {},
   "outputs": [],
   "source": [
    "len(units) == len(spike_times)"
   ]
  },
  {
   "cell_type": "code",
   "execution_count": null,
   "metadata": {},
   "outputs": [],
   "source": [
    "import matplotlib.pyplot as plt\n",
    "import numpy as np\n",
    "import random\n",
    "import npc_sessions\n",
    "import polars as pl\n",
    "import pandas as pd\n",
    "\n",
    "sessions = []\n",
    "for s in npc_sessions.tracked:\n",
    "    try:\n",
    "        result = s.is_uploaded\n",
    "    except ValueError:       \n",
    "        continue\n",
    "    else:\n",
    "        if not result:\n",
    "            continue\n",
    "    try:\n",
    "        _ = npc_sessions.get_units_electrodes(s.session)\n",
    "    except (FileNotFoundError, TypeError, ValueError) as exc:\n",
    "        print(f'{s.session}: {exc!r}')\n",
    "    else:\n",
    "        print(f'{s.session}: units available')\n",
    "        sessions.append(npc_sessions.Session(s.session))\n",
    "\n",
    "\n",
    "\n",
    "session = next(s for s in sessions if s.id == '626791_2022-08-17')\n",
    "\n",
    "\n",
    "\n",
    "\n",
    "stim = next(s for s in session.stim_data if 'DynamicRouting' in s)\n",
    "trials = npc_sessions.DynamicRouting1(session.stim_data[stim], session.sync_data)\n",
    "df = npc_sessions.get_units_electrodes_spike_times(session.id)\n",
    "\n",
    "vis = df.filter(pl.col('structure_acronym').str.contains('VIS'))\n",
    "aud = df.filter(pl.col('structure_acronym').str.starts_with('AUD'))\n",
    "\n",
    "for spike_times in vis['spike_times']:\n",
    "# spike_times = vis[random.randrange(len(vis))]['spike_times'][0]\n",
    "\n",
    "    pad_start = .5\n",
    "    pad_end = .5\n",
    "    # align_on = 'response_window_start_time'\n",
    "    align_on_time = 'stim_start_time'\n",
    "    on = trials.to_dataframe().query('is_vis_stim')[align_on_time].values - pad_start\n",
    "    off = pad_start + on + pad_end\n",
    "\n",
    "    fig, ax = plt.subplots()\n",
    "    ax.eventplot(\n",
    "        [spike_times[a:b] - on[idx] - pad_start \n",
    "        for idx, (a, b)\n",
    "        in enumerate(zip(np.searchsorted(spike_times, on), np.searchsorted(spike_times, off)))]\n",
    "    )\n",
    "    ax.axvline(0, color=[.8]*3, linestyle='--')\n",
    "    ax.set(xlabel='time, s', ylabel='trials', xmargin=0, ymargin=0)\n",
    "    ax2 = ax.secondary_xaxis('top')\n",
    "    ax2.set(xticks=[0], xticklabels=[align_on_time])\n",
    "    plt.show()"
   ]
  },
  {
   "cell_type": "code",
   "execution_count": null,
   "metadata": {},
   "outputs": [],
   "source": [
    "def plot_unit_quality_metrics_per_probe(units:pd.DataFrame):\n",
    "    metrics = ['drift_ptp', 'isi_violations_ratio', 'amplitude', 'amplitude_cutoff', 'presence_ratio']\n",
    "    probes = units['device_name'].unique()\n",
    "    \n",
    "    x_labels = {'presence_ratio': 'fraction of session', 'isi_violations_ratio': 'violation rate', 'drift_ptp': 'microns', 'amplitude': 'uV',\n",
    "                'amplitude_cutoff': 'frequency'}\n",
    "\n",
    "    for metric in metrics:\n",
    "        fig, ax = plt.subplots(1, len(probes))\n",
    "        probe_index = 0\n",
    "        fig.suptitle(f'{metric}')\n",
    "        for probe in probes:\n",
    "            units_probe_metric = units[units['device_name'] == probe][metric]\n",
    "            ax[probe_index].hist(units_probe_metric, bins=20)\n",
    "            ax[probe_index].set_title(f'{probe}')\n",
    "            ax[probe_index].set_xlabel(x_labels[metric])\n",
    "            probe_index += 1\n",
    "    \n",
    "        fig.set_size_inches([16, 6])\n",
    "    plt.tight_layout()"
   ]
  },
  {
   "cell_type": "code",
   "execution_count": null,
   "metadata": {},
   "outputs": [],
   "source": [
    "session = '662892_20230821'\n",
    "\n",
    "units_spikes_electrodes = npc_sessions.get_units_electrodes_spike_times(session).to_pandas()\n",
    "plot_unit_quality_metrics_per_probe(units_spikes_electrodes)"
   ]
  },
  {
   "cell_type": "code",
   "execution_count": null,
   "metadata": {},
   "outputs": [],
   "source": [
    "trials = nwb.trials[:]\n",
    "vis_context_trials = trials[(trials['is_vis_target']) & (trials['is_vis_context'])]\n",
    "opto_trials"
   ]
  },
  {
   "cell_type": "code",
   "execution_count": null,
   "metadata": {},
   "outputs": [],
   "source": [
    "def plot_all_unit_spike_histograms(units: pd.DataFrame):\n",
    "    probes = units['device_name'].unique()\n",
    "\n",
    "    for probe in probes:\n",
    "        fig, ax = plt.subplots()\n",
    "        unit_spike_times = units[units['device_name'] == probe]['spike_times'].to_numpy()\n",
    "\n",
    "        hist, bins = npc_sessions.bin_spike_times(unit_spike_times, bin_interval=1)\n",
    "        ax.plot(hist)\n",
    "        ax.set_title(f'{probe} Spike Histogram')\n",
    "        ax.set_xlabel('Time (s)')\n",
    "        ax.set_ylabel('Spike Count per 1 second bin')"
   ]
  },
  {
   "cell_type": "code",
   "execution_count": null,
   "metadata": {},
   "outputs": [],
   "source": [
    "plot_all_unit_spike_histograms(units_spikes_electrodes)"
   ]
  },
  {
   "cell_type": "code",
   "execution_count": null,
   "metadata": {},
   "outputs": [],
   "source": [
    "def plot_unit_spikes_channels(units: pd.DataFrame, lower_channel: int, upper_channel: int):\n",
    "    probes = units['device_name'].unique()\n",
    "    for probe in probes:\n",
    "        fig, ax = plt.subplots()\n",
    "        unit_spike_times = units[units['device_name'] == probe]\n",
    "        unit_spike_times_channel = unit_spike_times[(unit_spike_times['peak_channel'] >= lower_channel) & \n",
    "                                                    (unit_spike_times['peak_channel'] <= upper_channel)]['spike_times'].to_numpy()\n",
    "        hist, bins = npc_sessions.bin_spike_times(unit_spike_times_channel, bin_interval=1)\n",
    "\n",
    "        ax.plot(hist)\n",
    "        ax.set_title(f'{probe} spike hist for channel range {lower_channel} to {upper_channel}')\n",
    "        ax.set_xlabel('Time (s)')\n",
    "        ax.set_ylabel('Spike Count per 1 second bin')"
   ]
  },
  {
   "cell_type": "code",
   "execution_count": null,
   "metadata": {},
   "outputs": [],
   "source": [
    "plot_unit_spikes_channels(units_spikes_electrodes, 0, 200)"
   ]
  },
  {
   "cell_type": "code",
   "execution_count": null,
   "metadata": {},
   "outputs": [],
   "source": []
  }
 ],
 "metadata": {
  "kernelspec": {
   "display_name": "npc_session_test_env_310",
   "language": "python",
   "name": "python3"
  },
  "language_info": {
   "codemirror_mode": {
    "name": "ipython",
    "version": 3
   },
   "file_extension": ".py",
   "mimetype": "text/x-python",
   "name": "python",
   "nbconvert_exporter": "python",
   "pygments_lexer": "ipython3",
   "version": "3.10.12"
  },
  "orig_nbformat": 4
 },
 "nbformat": 4,
 "nbformat_minor": 2
}
