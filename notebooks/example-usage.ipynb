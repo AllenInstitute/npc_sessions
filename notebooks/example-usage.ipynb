{
 "cells": [
  {
   "cell_type": "markdown",
   "metadata": {},
   "source": [
    "This notebook introduces two packages:\n",
    "- `npc_lims` for getting information about sessions (metadata, paths, status)\n",
    "- `npc_sessions` for using processing data and converting to NWB format"
   ]
  },
  {
   "cell_type": "markdown",
   "metadata": {},
   "source": [
    "# Setup\n",
    "- first ensure credentials are available via any combination of:\n",
    "    - system environment variables\n",
    "    - a .env file\n",
    "    - `Secrets` in a CodeOcean capsule's `environment` tab\n",
    "    \n",
    "- see https://github.com/AllenInstitute/npc_lims/blob/main/README.md for info on\n",
    "    the minimum set of credentials required, and setting up tokens in CodeOcean\n",
    "\n",
    "- the first code cell will be a good test: an exception will be raised if credentials\n",
    "  aren't set up correctly"
   ]
  },
  {
   "cell_type": "markdown",
   "metadata": {},
   "source": [
    "# Finding available sessions\n",
    "\n",
    "## from databases of tracked sessions\n",
    "- if you don't need a specific session, the easiest way to just get a list of all DR\n",
    "  sessions is via `npc_lims.get_session_info()`"
   ]
  },
  {
   "cell_type": "code",
   "execution_count": 1,
   "metadata": {},
   "outputs": [
    {
     "data": {
      "text/plain": [
       "4261"
      ]
     },
     "execution_count": 1,
     "metadata": {},
     "output_type": "execute_result"
    }
   ],
   "source": [
    "import npc_lims\n",
    "\n",
    "all_sessions = npc_lims.get_session_info()\n",
    "len(all_sessions)"
   ]
  },
  {
   "cell_type": "markdown",
   "metadata": {},
   "source": [
    "- the dataclass returned has minimal information about the session:"
   ]
  },
  {
   "cell_type": "code",
   "execution_count": 4,
   "metadata": {},
   "outputs": [
    {
     "name": "stdout",
     "output_type": "stream",
     "text": [
      "SessionInfo(id='670243_2023-10-17',\n",
      "            project='DynamicRouting',\n",
      "            is_ephys=False,\n",
      "            is_sync=False,\n",
      "            allen_path=WindowsUPath('//allen/programs/mindscope/workgroups/dynamicrouting/DynamicRoutingTask/Data/670243'),\n",
      "            day=None,\n",
      "            session_kwargs={},\n",
      "            notes='',\n",
      "            issues=[])\n"
     ]
    }
   ],
   "source": [
    "import pprint\n",
    "\n",
    "pprint.pprint(all_sessions[0])"
   ]
  },
  {
   "cell_type": "markdown",
   "metadata": {},
   "source": [
    "- the two `bool` attributes (`is_ephys` and `is_sync`) are created on\n",
    "initialization and should give enough information to filter for training sessions\n",
    "in behavior boxes (no sync), habs or opto-only sessions (sync, no ephys) and\n",
    "full ephys sessions\n",
    "\n",
    "- additional attributes can give information about a session on-demand (as they\n",
    "  take time to look for files on S3):"
   ]
  },
  {
   "cell_type": "code",
   "execution_count": 8,
   "metadata": {},
   "outputs": [
    {
     "data": {
      "text/plain": [
       "(False,\n",
       " False,\n",
       " False,\n",
       " S3Path('s3://aind-scratch-data/ben.hardcastle/DynamicRoutingTask/Data/670243'))"
      ]
     },
     "execution_count": 8,
     "metadata": {},
     "output_type": "execute_result"
    }
   ],
   "source": [
    "(\n",
    "    all_sessions[0].is_uploaded, # this refers to a \"proper\" upload into aind's system, with metadata\n",
    "    all_sessions[0].is_sorted, \n",
    "    all_sessions[0].is_annotated, \n",
    "    all_sessions[0].cloud_path,\n",
    ")"
   ]
  },
  {
   "cell_type": "markdown",
   "metadata": {},
   "source": [
    "- `cloud_path` is an instance of `upath.UPath` \n",
    "- it behaves like a `pathlib.Path` object in the Python stdlib, allowing us to work with S3\n",
    "  much like a regular filesystem - although sometimes with a bit of extra work:"
   ]
  },
  {
   "cell_type": "code",
   "execution_count": 15,
   "metadata": {},
   "outputs": [
    {
     "name": "stdout",
     "output_type": "stream",
     "text": [
      "s3://aind-scratch-data/ben.hardcastle/DynamicRoutingTask/Data/670243/DynamicRouting1_670243_20230502_152458.hdf5\n",
      "s3://aind-scratch-data/ben.hardcastle/DynamicRoutingTask/Data/670243/DynamicRouting1_670243_20230503_155301.hdf5\n",
      "s3://aind-scratch-data/ben.hardcastle/DynamicRoutingTask/Data/670243/DynamicRouting1_670243_20230504_151133.hdf5\n",
      "s3://aind-scratch-data/ben.hardcastle/DynamicRoutingTask/Data/670243/DynamicRouting1_670243_20230505_134550.hdf5\n",
      "s3://aind-scratch-data/ben.hardcastle/DynamicRoutingTask/Data/670243/DynamicRouting1_670243_20230508_150905.hdf5\n"
     ]
    },
    {
     "data": {
      "text/plain": [
       "<KeysViewHDF5 ['acquisitionSignalLine', 'ampModFreq', 'autoRewardMissTrials', 'autoRewardOnsetFrame', 'behavNidaqDevice', 'blockCatchProb', 'blockStim', 'blockStimProb', 'blockStimRewarded', 'configPath', 'customSampling', 'deltaWheelPos', 'digitalSolenoidTrigger', 'drawDiodeBox', 'evenSampling', 'firstBlockNogoStim', 'frameIntervals', 'frameRate', 'frameSignalLine', 'framesPerBlock', 'galvoNidaqDevice', 'galvoVoltage', 'gratingEdge', 'gratingEdgeBlurWidth', 'gratingOri', 'gratingPhase', 'gratingSF', 'gratingSize', 'gratingTF', 'gratingType', 'incorrectSound', 'incorrectSoundDur', 'incorrectSoundFreq', 'incorrectSoundLevel', 'incorrectSoundVolume', 'incorrectTimeoutColor', 'incorrectTimeoutFrames', 'incorrectTrialRepeats', 'lickFrames', 'lickLine', 'linearSweepFreq', 'logSweepFreq', 'manualRewardFrames', 'maxFrames', 'maxTrials', 'maxWheelAngleChange', 'microphoneCh', 'microphoneData', 'minUnimodalTrials', 'minWheelAngleChange', 'monBackgroundColor', 'monDistance', 'monGamma', 'monSizePix', 'monWidth', 'newBlockAutoRewards', 'newBlockGoTrials', 'newBlockNogoTrials', 'noiseFiltFreq', 'optoDur', 'optoNewBlocks', 'optoNidaqDevice', 'optoOffRamp', 'optoOnRamp', 'optoOnsetFrame', 'optoProb', 'optoVoltage', 'pixelsPerDeg', 'postResponseWindowFrames', 'preStimFramesFixed', 'preStimFramesMax', 'preStimFramesVariableMean', 'quiescentFrames', 'quiescentViolationFrames', 'responseWindow', 'rewardFrames', 'rewardLine', 'rewardProbCatch', 'rewardProbGo', 'rewardSize', 'rewardSound', 'rewardSoundDeviceOpenTime', 'rewardSoundDur', 'rewardSoundFreq', 'rewardSoundLevel', 'rewardSoundLine', 'rewardSoundVolume', 'rewardVol', 'rigName', 'rotaryEncoder', 'rotaryEncoderCh', 'rotaryEncoderCount', 'rotaryEncoderCountsPerRev', 'rotaryEncoderIndex', 'rotaryEncoderSerialPort', 'rotaryEncoderVolts', 'saveDir', 'saveFrameIntervals', 'saveParams', 'savePath', 'saveSoundArray', 'screen', 'solenoidOpenTime', 'soundCalibrationFit', 'soundDur', 'soundHanningDur', 'soundLevel', 'soundLibrary', 'soundMode', 'soundNidaqDevice', 'soundRandomSeed', 'soundSampleRate', 'soundType', 'soundVolume', 'spacebarRewardsEnabled', 'startTime', 'subjectName', 'syncNidaqDevice', 'taskVersion', 'toneFreq', 'trialAutoRewarded', 'trialBlock', 'trialEndFrame', 'trialGalvoVoltage', 'trialGratingOri', 'trialGratingPhase', 'trialOptoDur', 'trialOptoOnsetFrame', 'trialOptoVoltage', 'trialPreStimFrames', 'trialRepeat', 'trialResponse', 'trialResponseFrame', 'trialRewarded', 'trialSoundAM', 'trialSoundArray', 'trialSoundDur', 'trialSoundFreq', 'trialSoundType', 'trialSoundVolume', 'trialStartFrame', 'trialStim', 'trialStimStartFrame', 'trialVisStimContrast', 'trialVisStimFrames', 'trialsPerBlock', 'variableBlockFalseAlarmThreshold', 'variableBlockHitThreshold', 'variableBlockMaxFrames', 'variableBlockMinFrames', 'variableBlockThresholdTrials', 'variableBlocks', 'visStimContrast', 'visStimFrames', 'visStimType', 'warp', 'warpFile', 'waterCalibrationIntercept', 'waterCalibrationSlope', 'wheelPolarity', 'wheelPosRadians', 'wheelRadius']>"
      ]
     },
     "execution_count": 15,
     "metadata": {},
     "output_type": "execute_result"
    }
   ],
   "source": [
    "import io\n",
    "import h5py\n",
    "\n",
    "stim_files = all_sessions[0].cloud_path.glob('*.hdf5')\n",
    "for _ in range(5):\n",
    "    print(next(stim_files).as_posix())\n",
    "    \n",
    "h5py.File(io.BytesIO(next(stim_files).read_bytes()), 'r').keys()"
   ]
  },
  {
   "cell_type": "markdown",
   "metadata": {},
   "source": [
    "## from subject and date\n",
    "- to get a specific session:\n",
    "    - just pass a string containing a labtracks mouse\n",
    "    ID (MID) and a date and our session databases will\n",
    "    be queried\n",
    "        - date should be YYYYDDMM (any separators accepted)\n",
    "        - MID and date can be in any order (whitespace and underscore separators accepted)\n",
    "        - i.e. a stim filename works fine (time is ignored):\n",
    "          `DynamicRouting1_620263_20220425_084516`\n",
    "- the following are all equivalent:\n"
   ]
  },
  {
   "cell_type": "code",
   "execution_count": 19,
   "metadata": {},
   "outputs": [],
   "source": [
    "sessions = (\n",
    "    npc_lims.get_session_info('670243_20230505'),\n",
    "    npc_lims.get_session_info('670243 2023-05-05'),\n",
    "    npc_lims.get_session_info('2023-05-05 670243'),\n",
    "    npc_lims.get_session_info('DynamicRouting1_670243_20230505_134550'),\n",
    ")\n",
    "assert len(set(sessions)) == 1"
   ]
  },
  {
   "cell_type": "markdown",
   "metadata": {},
   "source": [
    "## from a path\n",
    "- if we a MID and date can be parsed from the path, it can be used as above\n",
    "- URIs to cloud paths are fine too:"
   ]
  },
  {
   "cell_type": "code",
   "execution_count": 20,
   "metadata": {},
   "outputs": [],
   "source": [
    "sessions = (\n",
    "    npc_lims.get_session_info('//allen/programs/mindscope/workgroups/dynamicrouting/DynamicRoutingTask/Data/670243/DynamicRouting1_670243_20230505_134550.hdf5'),\n",
    "    npc_lims.get_session_info('s3://aind-scratch-data/ben.hardcastle/DynamicRoutingTask/Data/670243/DynamicRouting1_670243_20230505_134550.hdf5'),\n",
    ")\n",
    "assert len(set(sessions)) == 1"
   ]
  },
  {
   "cell_type": "markdown",
   "metadata": {},
   "source": [
    "---\n",
    "# session data\n",
    "For analysis of actual data we switch over to `npc_sessions`\n",
    "- `npc_sessions` uses `npc_lims` to get paths and session info\n",
    "- `npc_sessions.utils` contains functions for processing raw data files from a session (sync file, hdf5 stim files, OpenEphys files, etc.)\n",
    "- one big class is devoted to pulling together all of the processed components and metadata, and converting to NWB format\n",
    "    - as above, we pass a session ID (labtracks mouse ID and date) or a path\n",
    "    - importing the package is currenlty slow\n",
    "    - initialization of the object should always be fast (data is processed on-demand)"
   ]
  },
  {
   "cell_type": "code",
   "execution_count": 1,
   "metadata": {},
   "outputs": [],
   "source": [
    "import npc_sessions"
   ]
  },
  {
   "cell_type": "code",
   "execution_count": 2,
   "metadata": {},
   "outputs": [
    {
     "data": {
      "text/plain": [
       "DynamicRoutingSession('670243_2023-05-05')"
      ]
     },
     "execution_count": 2,
     "metadata": {},
     "output_type": "execute_result"
    }
   ],
   "source": [
    "npc_sessions.DynamicRoutingSession('670243 2023-05-05')"
   ]
  },
  {
   "cell_type": "markdown",
   "metadata": {},
   "source": [
    "- again, if you don't need a particular session and just want to loop over all\n",
    "available sessions, an iterator is provided which queries session-tracking\n",
    "databases and return `DynamicRoutingSession` instances (most-recent first)\n",
    "- see the function docstring for more info about usage: https://github.com/AllenInstitute/npc_sessions/blob/f92e226ab0922b4919b9442dc63594de572ecb78/src/npc_sessions/sessions.py#L49"
   ]
  },
  {
   "cell_type": "code",
   "execution_count": 2,
   "metadata": {},
   "outputs": [
    {
     "data": {
      "text/plain": [
       "DynamicRoutingSession('670243_2023-10-17')"
      ]
     },
     "execution_count": 2,
     "metadata": {},
     "output_type": "execute_result"
    }
   ],
   "source": [
    "import npc_sessions\n",
    " \n",
    "next(npc_sessions.get_sessions())"
   ]
  },
  {
   "cell_type": "markdown",
   "metadata": {},
   "source": [
    "- a metadata-only NWB instance is provided, which uses information from available\n",
    "  session files to give a richer overview than the dataclass returned from\n",
    "  `npc_lims.get_session_info()`\n",
    "  - since it requires opening stim hdf5 files and some globbing in folders\n",
    "    (potentially in the cloud), generating this object takes some time, but it is\n",
    "    designed to be relatively fast"
   ]
  },
  {
   "cell_type": "code",
   "execution_count": 3,
   "metadata": {},
   "outputs": [
    {
     "name": "stdout",
     "output_type": "stream",
     "text": [
      "type(session.metadata) = <class 'pynwb.file.NWBFile'>\n"
     ]
    },
    {
     "data": {
      "text/html": [
       "\n",
       "        <style>\n",
       "            .container-fields {\n",
       "                font-family: \"Open Sans\", Arial, sans-serif;\n",
       "            }\n",
       "            .container-fields .field-value {\n",
       "                color: #00788E;\n",
       "            }\n",
       "            .container-fields details > summary {\n",
       "                cursor: pointer;\n",
       "                display: list-item;\n",
       "            }\n",
       "            .container-fields details > summary:hover {\n",
       "                color: #0A6EAA;\n",
       "            }\n",
       "        </style>\n",
       "        \n",
       "        <script>\n",
       "            function copyToClipboard(text) {\n",
       "                navigator.clipboard.writeText(text).then(function() {\n",
       "                    console.log('Copied to clipboard: ' + text);\n",
       "                }, function(err) {\n",
       "                    console.error('Could not copy text: ', err);\n",
       "                });\n",
       "            }\n",
       "\n",
       "            document.addEventListener('DOMContentLoaded', function() {\n",
       "                let fieldKeys = document.querySelectorAll('.container-fields .field-key');\n",
       "                fieldKeys.forEach(function(fieldKey) {\n",
       "                    fieldKey.addEventListener('click', function() {\n",
       "                        let accessCode = fieldKey.getAttribute('title').replace('Access code: ', '');\n",
       "                        copyToClipboard(accessCode);\n",
       "                    });\n",
       "                });\n",
       "            });\n",
       "        </script>\n",
       "        <div class='container-wrap'><div class='container-header'><div class='xr-obj-type'><h3>root (NWBFile)</h3></div></div><div style=\"margin-left: 0px;\" class=\"container-fields\"><span class=\"field-key\" title=\".fields['session_description']\">session_description:</span> <span class=\"field-value\">training session with behavioral task data, without precise timing information</span></div><div style=\"margin-left: 0px;\" class=\"container-fields\"><span class=\"field-key\" title=\".fields['identifier']\">identifier:</span> <span class=\"field-value\">2482576a-36cb-4fa8-9dc4-8fd092aadbff</span></div><div style=\"margin-left: 0px;\" class=\"container-fields\"><span class=\"field-key\" title=\".fields['session_start_time']\">session_start_time:</span> <span class=\"field-value\">2023-10-17 16:59:15-07:00</span></div><div style=\"margin-left: 0px;\" class=\"container-fields\"><span class=\"field-key\" title=\".fields['timestamps_reference_time']\">timestamps_reference_time:</span> <span class=\"field-value\">2023-10-17 16:59:15-07:00</span></div><details><summary style=\"display: list-item; margin-left: 0px;\" class=\"container-fields field-key\" title=\".fields['file_create_date']\"><b>file_create_date</b></summary><div style=\"margin-left: 20px;\" class=\"container-fields\"><span class=\"field-value\" title=\".fields['file_create_date'][0]\">2023-10-18 14:16:25.528765-07:00</span></div></details><details><summary style=\"display: list-item; margin-left: 0px;\" class=\"container-fields field-key\" title=\".fields['keywords']\"><b>keywords</b></summary><div style=\"margin-left: 20px;\" class=\"container-fields\"><span class=\"field-value\" title=\".fields['keywords'][0]\">behavior</span></div></details><details><summary style=\"display: list-item; margin-left: 0px;\" class=\"container-fields field-key\" title=\".fields['epoch_tags']\"><b>epoch_tags</b></summary><div style=\"margin-left: 20px;\" class=\"container-fields\"><span class=\"field-value\" title=\".fields['epoch_tags'][0]\">DynamicRouting1</span></div><div style=\"margin-left: 20px;\" class=\"container-fields\"><span class=\"field-value\" title=\".fields['epoch_tags'][1]\">rewards</span></div></details><details><summary style=\"display: list-item; margin-left: 0px;\" class=\"container-fields field-key\" title=\".fields['subject']\"><b>subject</b></summary><div style=\"margin-left: 20px;\" class=\"container-fields\"><span class=\"field-key\" title=\".fields['subject'].fields['age']\">age:</span> <span class=\"field-value\">P243D</span></div><div style=\"margin-left: 20px;\" class=\"container-fields\"><span class=\"field-key\" title=\".fields['subject'].fields['age__reference']\">age__reference:</span> <span class=\"field-value\">birth</span></div><div style=\"margin-left: 20px;\" class=\"container-fields\"><span class=\"field-key\" title=\".fields['subject'].fields['genotype']\">genotype:</span> <span class=\"field-value\">VGAT-ChR2</span></div><div style=\"margin-left: 20px;\" class=\"container-fields\"><span class=\"field-key\" title=\".fields['subject'].fields['sex']\">sex:</span> <span class=\"field-value\">M</span></div><div style=\"margin-left: 20px;\" class=\"container-fields\"><span class=\"field-key\" title=\".fields['subject'].fields['species']\">species:</span> <span class=\"field-value\">Mus musculus</span></div><div style=\"margin-left: 20px;\" class=\"container-fields\"><span class=\"field-key\" title=\".fields['subject'].fields['subject_id']\">subject_id:</span> <span class=\"field-value\">670243</span></div><div style=\"margin-left: 20px;\" class=\"container-fields\"><span class=\"field-key\" title=\".fields['subject'].fields['date_of_birth']\">date_of_birth:</span> <span class=\"field-value\">2023-02-16 00:00:00-08:00</span></div></details><div style=\"margin-left: 0px;\" class=\"container-fields\"><span class=\"field-key\" title=\".fields['experiment_description']\">experiment_description:</span> <span class=\"field-value\">visual-auditory task-switching behavior experiment</span></div><div style=\"margin-left: 0px;\" class=\"container-fields\"><span class=\"field-key\" title=\".fields['session_id']\">session_id:</span> <span class=\"field-value\">670243_2023-10-17</span></div><div style=\"margin-left: 0px;\" class=\"container-fields\"><span class=\"field-key\" title=\".fields['lab']\">lab:</span> <span class=\"field-value\">B2</span></div><div style=\"margin-left: 0px;\" class=\"container-fields\"><span class=\"field-key\" title=\".fields['source_script']\">source_script:</span> <span class=\"field-value\">https://raw.githubusercontent.com/samgale/DynamicRoutingTask/c2b14223cbce1abda109b278f6f76e458dca3fe7/DynamicRouting1.py</span></div><div style=\"margin-left: 0px;\" class=\"container-fields\"><span class=\"field-key\" title=\".fields['source_script_file_name']\">source_script_file_name:</span> <span class=\"field-value\">https://github.com/AllenInstitute/npc_sessions/releases/tag/v0.0.105</span></div><div style=\"margin-left: 0px;\" class=\"container-fields\"><span class=\"field-key\" title=\".fields['stimulus_notes']\">stimulus_notes:</span> <span class=\"field-value\">stage 5 ori AMN moving</span></div></div>"
      ],
      "text/plain": [
       "root pynwb.file.NWBFile at 0x2357928129936\n",
       "Fields:\n",
       "  epoch_tags: ['DynamicRouting1' 'rewards']\n",
       "  experiment_description: visual-auditory task-switching behavior experiment\n",
       "  file_create_date: [datetime.datetime(2023, 10, 18, 14, 16, 25, 528765, tzinfo=tzlocal())]\n",
       "  identifier: 2482576a-36cb-4fa8-9dc4-8fd092aadbff\n",
       "  keywords: ['behavior']\n",
       "  lab: B2\n",
       "  session_description: training session with behavioral task data, without precise timing information\n",
       "  session_id: 670243_2023-10-17\n",
       "  session_start_time: 2023-10-17 16:59:15-07:00\n",
       "  source_script: https://raw.githubusercontent.com/samgale/DynamicRoutingTask/c2b14223cbce1abda109b278f6f76e458dca3fe7/DynamicRouting1.py\n",
       "  source_script_file_name: https://github.com/AllenInstitute/npc_sessions/releases/tag/v0.0.105\n",
       "  stimulus_notes: stage 5 ori AMN moving\n",
       "  subject: subject pynwb.file.Subject at 0x2356750827600\n",
       "Fields:\n",
       "  age: P243D\n",
       "  age__reference: birth\n",
       "  date_of_birth: 2023-02-16 00:00:00-08:00\n",
       "  genotype: VGAT-ChR2\n",
       "  sex: M\n",
       "  species: Mus musculus\n",
       "  subject_id: 670243\n",
       "\n",
       "  timestamps_reference_time: 2023-10-17 16:59:15-07:00"
      ]
     },
     "execution_count": 3,
     "metadata": {},
     "output_type": "execute_result"
    }
   ],
   "source": [
    "session = next(npc_sessions.get_sessions())\n",
    "\n",
    "print(f\"{type(session.metadata) = }\")\n",
    "session.metadata"
   ]
  },
  {
   "cell_type": "markdown",
   "metadata": {},
   "source": [
    "- the `keywords` list in the `NWBFile` tells us which components are available for\n",
    "  the session\n",
    "- these are derived from `bool` attributes on the session object: "
   ]
  },
  {
   "cell_type": "code",
   "execution_count": 12,
   "metadata": {},
   "outputs": [
    {
     "name": "stdout",
     "output_type": "stream",
     "text": [
      "['behavior', 'sync', 'video', 'ephys', 'no units']\n"
     ]
    },
    {
     "data": {
      "text/plain": [
       "(True, False, True, True, True, False, False, False)"
      ]
     },
     "execution_count": 12,
     "metadata": {},
     "output_type": "execute_result"
    }
   ],
   "source": [
    "print(session.keywords)\n",
    "(\n",
    "    session.is_task,    # has a readable `DynamicRouting1*.hdf5` file\n",
    "    session.is_opto,    # opto applied during behavior task trials, not optotagging\n",
    "    session.is_sync,\n",
    "    session.is_video,\n",
    "    session.is_ephys,\n",
    "    session.is_sorted,\n",
    "    session.is_annotated,\n",
    "    session.is_templeton,\n",
    ")"
   ]
  },
  {
   "cell_type": "markdown",
   "metadata": {},
   "source": [
    "- these are used throughout the session object to determine the course of\n",
    "  processing, for example:\n",
    "  - almost every session has a  `DynamicRouting1*.hdf5` file, but we do have a couple where writing\n",
    "  the file to disk failed, so it's not a given\n",
    "  - before generating a trials table from the `DynamicRouting1*.hdf5`, we can\n",
    "    check whether `session.is_task == True`\n",
    "- these attributes are also useful for filtering sessions:"
   ]
  },
  {
   "cell_type": "code",
   "execution_count": 4,
   "metadata": {},
   "outputs": [
    {
     "name": "stderr",
     "output_type": "stream",
     "text": [
      "c:\\Users\\ben.hardcastle\\github\\npc_sessions\\.venv\\Lib\\site-packages\\DynamicRoutingTask\\Analysis\\DynamicRoutingAnalysisUtils.py:213: RuntimeWarning: invalid value encountered in scalar divide\n",
      "  self.falseAlarmSameModal.append(self.falseAlarmTrials[sameModal].sum() / sameModal.sum())\n",
      "c:\\Users\\ben.hardcastle\\github\\npc_sessions\\.venv\\Lib\\site-packages\\DynamicRoutingTask\\Analysis\\DynamicRoutingAnalysisUtils.py:214: RuntimeWarning: invalid value encountered in scalar divide\n",
      "  self.falseAlarmOtherModalGo.append(self.falseAlarmTrials[otherModalGo].sum() / otherModalGo.sum())\n",
      "c:\\Users\\ben.hardcastle\\github\\npc_sessions\\.venv\\Lib\\site-packages\\DynamicRoutingTask\\Analysis\\DynamicRoutingAnalysisUtils.py:206: RuntimeWarning: invalid value encountered in scalar divide\n",
      "  self.catchResponseRate.append(self.catchResponseTrials[blockTrials].sum() / self.catchTrials[blockTrials].sum())\n",
      "c:\\Users\\ben.hardcastle\\github\\npc_sessions\\.venv\\Lib\\site-packages\\DynamicRoutingTask\\Analysis\\DynamicRoutingAnalysisUtils.py:207: RuntimeWarning: invalid value encountered in scalar divide\n",
      "  self.hitRate.append(self.hitTrials[blockTrials].sum() / self.goTrials[blockTrials].sum())\n",
      "c:\\Users\\ben.hardcastle\\github\\npc_sessions\\.venv\\Lib\\site-packages\\DynamicRoutingTask\\Analysis\\DynamicRoutingAnalysisUtils.py:209: RuntimeWarning: invalid value encountered in scalar divide\n",
      "  self.falseAlarmRate.append(self.falseAlarmTrials[blockTrials].sum() / self.nogoTrials[blockTrials].sum())\n",
      "c:\\Users\\ben.hardcastle\\github\\npc_sessions\\.venv\\Lib\\site-packages\\DynamicRoutingTask\\Analysis\\DynamicRoutingAnalysisUtils.py:215: RuntimeWarning: invalid value encountered in scalar divide\n",
      "  self.falseAlarmOtherModalNogo.append(self.falseAlarmTrials[otherModalNogo].sum() / otherModalNogo.sum())\n"
     ]
    },
    {
     "data": {
      "text/html": [
       "\n",
       "        <style>\n",
       "            .container-fields {\n",
       "                font-family: \"Open Sans\", Arial, sans-serif;\n",
       "            }\n",
       "            .container-fields .field-value {\n",
       "                color: #00788E;\n",
       "            }\n",
       "            .container-fields details > summary {\n",
       "                cursor: pointer;\n",
       "                display: list-item;\n",
       "            }\n",
       "            .container-fields details > summary:hover {\n",
       "                color: #0A6EAA;\n",
       "            }\n",
       "        </style>\n",
       "        \n",
       "        <script>\n",
       "            function copyToClipboard(text) {\n",
       "                navigator.clipboard.writeText(text).then(function() {\n",
       "                    console.log('Copied to clipboard: ' + text);\n",
       "                }, function(err) {\n",
       "                    console.error('Could not copy text: ', err);\n",
       "                });\n",
       "            }\n",
       "\n",
       "            document.addEventListener('DOMContentLoaded', function() {\n",
       "                let fieldKeys = document.querySelectorAll('.container-fields .field-key');\n",
       "                fieldKeys.forEach(function(fieldKey) {\n",
       "                    fieldKey.addEventListener('click', function() {\n",
       "                        let accessCode = fieldKey.getAttribute('title').replace('Access code: ', '');\n",
       "                        copyToClipboard(accessCode);\n",
       "                    });\n",
       "                });\n",
       "            });\n",
       "        </script>\n",
       "        <div class='container-wrap'><div class='container-header'><div class='xr-obj-type'><h3>root (NWBFile)</h3></div></div><div style=\"margin-left: 0px;\" class=\"container-fields\"><span class=\"field-key\" title=\".fields['session_description']\">session_description:</span> <span class=\"field-value\">ecephys session without sorted units, with behavioral task data and video recording of behavior</span></div><div style=\"margin-left: 0px;\" class=\"container-fields\"><span class=\"field-key\" title=\".fields['identifier']\">identifier:</span> <span class=\"field-value\">34d6b30c-e71e-4762-b7f0-008b2467a5ca</span></div><div style=\"margin-left: 0px;\" class=\"container-fields\"><span class=\"field-key\" title=\".fields['session_start_time']\">session_start_time:</span> <span class=\"field-value\">2023-10-17 14:01:23-07:00</span></div><div style=\"margin-left: 0px;\" class=\"container-fields\"><span class=\"field-key\" title=\".fields['timestamps_reference_time']\">timestamps_reference_time:</span> <span class=\"field-value\">2023-10-17 14:01:23-07:00</span></div><details><summary style=\"display: list-item; margin-left: 0px;\" class=\"container-fields field-key\" title=\".fields['file_create_date']\"><b>file_create_date</b></summary><div style=\"margin-left: 20px;\" class=\"container-fields\"><span class=\"field-value\" title=\".fields['file_create_date'][0]\">2023-10-18 14:16:39.428046-07:00</span></div></details><details><summary style=\"display: list-item; margin-left: 0px;\" class=\"container-fields field-key\" title=\".fields['keywords']\"><b>keywords</b></summary><div style=\"margin-left: 20px;\" class=\"container-fields\"><span class=\"field-value\" title=\".fields['keywords'][0]\">behavior</span></div><div style=\"margin-left: 20px;\" class=\"container-fields\"><span class=\"field-value\" title=\".fields['keywords'][1]\">sync</span></div><div style=\"margin-left: 20px;\" class=\"container-fields\"><span class=\"field-value\" title=\".fields['keywords'][2]\">video</span></div><div style=\"margin-left: 20px;\" class=\"container-fields\"><span class=\"field-value\" title=\".fields['keywords'][3]\">ephys</span></div><div style=\"margin-left: 20px;\" class=\"container-fields\"><span class=\"field-value\" title=\".fields['keywords'][4]\">no units</span></div></details><details><summary style=\"display: list-item; margin-left: 0px;\" class=\"container-fields field-key\" title=\".fields['epoch_tags']\"><b>epoch_tags</b></summary><div style=\"margin-left: 20px;\" class=\"container-fields\"><span class=\"field-value\" title=\".fields['epoch_tags'][0]\">DynamicRouting1</span></div><div style=\"margin-left: 20px;\" class=\"container-fields\"><span class=\"field-value\" title=\".fields['epoch_tags'][1]\">SpontaneousRewards</span></div><div style=\"margin-left: 20px;\" class=\"container-fields\"><span class=\"field-value\" title=\".fields['epoch_tags'][2]\">Spontaneous</span></div><div style=\"margin-left: 20px;\" class=\"container-fields\"><span class=\"field-value\" title=\".fields['epoch_tags'][3]\">rewards</span></div><div style=\"margin-left: 20px;\" class=\"container-fields\"><span class=\"field-value\" title=\".fields['epoch_tags'][4]\">OptoTagging</span></div><div style=\"margin-left: 20px;\" class=\"container-fields\"><span class=\"field-value\" title=\".fields['epoch_tags'][5]\">RFMapping</span></div></details><details><summary style=\"display: list-item; margin-left: 0px;\" class=\"container-fields field-key\" title=\".fields['subject']\"><b>subject</b></summary><div style=\"margin-left: 20px;\" class=\"container-fields\"><span class=\"field-key\" title=\".fields['subject'].fields['age']\">age:</span> <span class=\"field-value\">P172D</span></div><div style=\"margin-left: 20px;\" class=\"container-fields\"><span class=\"field-key\" title=\".fields['subject'].fields['age__reference']\">age__reference:</span> <span class=\"field-value\">birth</span></div><div style=\"margin-left: 20px;\" class=\"container-fields\"><span class=\"field-key\" title=\".fields['subject'].fields['genotype']\">genotype:</span> <span class=\"field-value\">Vip Cre Ai32</span></div><div style=\"margin-left: 20px;\" class=\"container-fields\"><span class=\"field-key\" title=\".fields['subject'].fields['sex']\">sex:</span> <span class=\"field-value\">F</span></div><div style=\"margin-left: 20px;\" class=\"container-fields\"><span class=\"field-key\" title=\".fields['subject'].fields['species']\">species:</span> <span class=\"field-value\">Mus musculus</span></div><div style=\"margin-left: 20px;\" class=\"container-fields\"><span class=\"field-key\" title=\".fields['subject'].fields['subject_id']\">subject_id:</span> <span class=\"field-value\">681532</span></div><div style=\"margin-left: 20px;\" class=\"container-fields\"><span class=\"field-key\" title=\".fields['subject'].fields['date_of_birth']\">date_of_birth:</span> <span class=\"field-value\">2023-04-28 00:00:00-07:00</span></div></details><div style=\"margin-left: 0px;\" class=\"container-fields\"><span class=\"field-key\" title=\".fields['experiment_description']\">experiment_description:</span> <span class=\"field-value\">visual-auditory task-switching behavior experiment</span></div><div style=\"margin-left: 0px;\" class=\"container-fields\"><span class=\"field-key\" title=\".fields['session_id']\">session_id:</span> <span class=\"field-value\">681532_2023-10-17</span></div><div style=\"margin-left: 0px;\" class=\"container-fields\"><span class=\"field-key\" title=\".fields['lab']\">lab:</span> <span class=\"field-value\">NP3</span></div><div style=\"margin-left: 0px;\" class=\"container-fields\"><span class=\"field-key\" title=\".fields['source_script']\">source_script:</span> <span class=\"field-value\">https://raw.githubusercontent.com/samgale/DynamicRoutingTask//d94c4f3b6e1d6284a847968f7dd55a5acfd8fa24/DynamicRouting1.py</span></div><div style=\"margin-left: 0px;\" class=\"container-fields\"><span class=\"field-key\" title=\".fields['source_script_file_name']\">source_script_file_name:</span> <span class=\"field-value\">https://github.com/AllenInstitute/npc_sessions/releases/tag/v0.0.105</span></div><div style=\"margin-left: 0px;\" class=\"container-fields\"><span class=\"field-key\" title=\".fields['stimulus_notes']\">stimulus_notes:</span> <span class=\"field-value\">stage 5 AMN ori moving</span></div></div>"
      ],
      "text/plain": [
       "root pynwb.file.NWBFile at 0x2357935724048\n",
       "Fields:\n",
       "  epoch_tags: ['DynamicRouting1' 'SpontaneousRewards' 'Spontaneous' 'rewards'\n",
       " 'OptoTagging' 'RFMapping']\n",
       "  experiment_description: visual-auditory task-switching behavior experiment\n",
       "  file_create_date: [datetime.datetime(2023, 10, 18, 14, 16, 39, 428046, tzinfo=tzlocal())]\n",
       "  identifier: 34d6b30c-e71e-4762-b7f0-008b2467a5ca\n",
       "  keywords: ['behavior' 'sync' 'video' 'ephys' 'no units']\n",
       "  lab: NP3\n",
       "  session_description: ecephys session without sorted units, with behavioral task data and video recording of behavior\n",
       "  session_id: 681532_2023-10-17\n",
       "  session_start_time: 2023-10-17 14:01:23-07:00\n",
       "  source_script: https://raw.githubusercontent.com/samgale/DynamicRoutingTask//d94c4f3b6e1d6284a847968f7dd55a5acfd8fa24/DynamicRouting1.py\n",
       "  source_script_file_name: https://github.com/AllenInstitute/npc_sessions/releases/tag/v0.0.105\n",
       "  stimulus_notes: stage 5 AMN ori moving\n",
       "  subject: subject pynwb.file.Subject at 0x2357928109008\n",
       "Fields:\n",
       "  age: P172D\n",
       "  age__reference: birth\n",
       "  date_of_birth: 2023-04-28 00:00:00-07:00\n",
       "  genotype: Vip Cre Ai32\n",
       "  sex: F\n",
       "  species: Mus musculus\n",
       "  subject_id: 681532\n",
       "\n",
       "  timestamps_reference_time: 2023-10-17 14:01:23-07:00"
      ]
     },
     "execution_count": 4,
     "metadata": {},
     "output_type": "execute_result"
    }
   ],
   "source": [
    "for session in npc_sessions.get_sessions():\n",
    "    if session.is_task and session.is_ephys:\n",
    "        break\n",
    "session.metadata"
   ]
  },
  {
   "cell_type": "markdown",
   "metadata": {},
   "source": [
    "- when generating the \"full\" `NWBFile` (metadata + data), all available components\n",
    "  will be processed:\n",
    "  - for example, if `sync` is not in `keywords`, trial times and running/lick data\n",
    "    will be be generated with \"good-enough\" timing info\n",
    "  - ephys data requires timing info from sync, however, so currently a session\n",
    "  cannot have any ephys components without sync\n",
    "    \n",
    "- processing of some components, like ephys data, may take a minute or two, so it\n",
    "  may make sense to disable components you don't need:\n",
    "  - to get the previous session without ephys, we pass a kwarg to\n",
    "    `get_sessions()` or to `DynamicRoutingSession()`:"
   ]
  },
  {
   "cell_type": "code",
   "execution_count": 5,
   "metadata": {},
   "outputs": [
    {
     "name": "stderr",
     "output_type": "stream",
     "text": [
      "c:\\Users\\ben.hardcastle\\github\\npc_sessions\\.venv\\Lib\\site-packages\\DynamicRoutingTask\\Analysis\\DynamicRoutingAnalysisUtils.py:213: RuntimeWarning: invalid value encountered in scalar divide\n",
      "  self.falseAlarmSameModal.append(self.falseAlarmTrials[sameModal].sum() / sameModal.sum())\n",
      "c:\\Users\\ben.hardcastle\\github\\npc_sessions\\.venv\\Lib\\site-packages\\DynamicRoutingTask\\Analysis\\DynamicRoutingAnalysisUtils.py:214: RuntimeWarning: invalid value encountered in scalar divide\n",
      "  self.falseAlarmOtherModalGo.append(self.falseAlarmTrials[otherModalGo].sum() / otherModalGo.sum())\n",
      "c:\\Users\\ben.hardcastle\\github\\npc_sessions\\.venv\\Lib\\site-packages\\DynamicRoutingTask\\Analysis\\DynamicRoutingAnalysisUtils.py:206: RuntimeWarning: invalid value encountered in scalar divide\n",
      "  self.catchResponseRate.append(self.catchResponseTrials[blockTrials].sum() / self.catchTrials[blockTrials].sum())\n",
      "c:\\Users\\ben.hardcastle\\github\\npc_sessions\\.venv\\Lib\\site-packages\\DynamicRoutingTask\\Analysis\\DynamicRoutingAnalysisUtils.py:207: RuntimeWarning: invalid value encountered in scalar divide\n",
      "  self.hitRate.append(self.hitTrials[blockTrials].sum() / self.goTrials[blockTrials].sum())\n",
      "c:\\Users\\ben.hardcastle\\github\\npc_sessions\\.venv\\Lib\\site-packages\\DynamicRoutingTask\\Analysis\\DynamicRoutingAnalysisUtils.py:209: RuntimeWarning: invalid value encountered in scalar divide\n",
      "  self.falseAlarmRate.append(self.falseAlarmTrials[blockTrials].sum() / self.nogoTrials[blockTrials].sum())\n",
      "c:\\Users\\ben.hardcastle\\github\\npc_sessions\\.venv\\Lib\\site-packages\\DynamicRoutingTask\\Analysis\\DynamicRoutingAnalysisUtils.py:215: RuntimeWarning: invalid value encountered in scalar divide\n",
      "  self.falseAlarmOtherModalNogo.append(self.falseAlarmTrials[otherModalNogo].sum() / otherModalNogo.sum())\n"
     ]
    },
    {
     "data": {
      "text/plain": [
       "['behavior', 'sync', 'video']"
      ]
     },
     "execution_count": 5,
     "metadata": {},
     "output_type": "execute_result"
    }
   ],
   "source": [
    "session = npc_sessions.DynamicRoutingSession(session.session_id, is_ephys=False)\n",
    "assert session.is_ephys is False\n",
    "session.keywords"
   ]
  },
  {
   "cell_type": "markdown",
   "metadata": {},
   "source": [
    "- note that `ephys` is no longer in `keywords`\n",
    "\n",
    "- note that any of the attributes in the `NWBFile` (like `session_id` and `keywords`) are also accessible via our\n",
    "  `DynamicRoutingSession` instance"
   ]
  },
  {
   "cell_type": "markdown",
   "metadata": {},
   "source": [
    "# NWB components\n",
    "https://github.com/AllenInstitute/npc_sessions/tree/f92e226ab0922b4919b9442dc63594de572ecb78#current-nwb-components"
   ]
  },
  {
   "cell_type": "markdown",
   "metadata": {},
   "source": [
    "## Intervals\n",
    "\n",
    "- in each NWB file there can be multiple tables (think dataframes) with\n",
    "  information about intervals of time:\n",
    "    - the commonality is that each row contains information about one time interval\n",
    "    - each interval must have a `start_time` and a `stop_time`, specified in\n",
    "      seconds relative to `session_start_time`\n",
    "\n",
    "- "
   ]
  },
  {
   "cell_type": "code",
   "execution_count": 5,
   "metadata": {},
   "outputs": [
    {
     "data": {
      "text/plain": [
       "root pynwb.file.NWBFile at 0x2372257158800\n",
       "Fields:\n",
       "  acquisition: {\n",
       "    rewards <class 'ndx_events.events.Events'>\n",
       "  }\n",
       "  analysis: {\n",
       "    performance <class 'pynwb.epoch.TimeIntervals'>\n",
       "  }\n",
       "  epoch_tags: ['DynamicRouting1' 'rewards' 'opto']\n",
       "  epochs: epochs <class 'pynwb.epoch.TimeIntervals'>\n",
       "  experiment_description: visual-auditory task-switching behavior experiment\n",
       "  file_create_date: [datetime.datetime(2023, 10, 16, 20, 55, 36, 864721, tzinfo=tzlocal())]\n",
       "  identifier: b70b7805-3a42-4baf-b781-7b716c58b997\n",
       "  intervals: {\n",
       "    DynamicRouting1 <class 'pynwb.epoch.TimeIntervals'>,\n",
       "    performance <class 'pynwb.epoch.TimeIntervals'>,\n",
       "    trials <class 'pynwb.epoch.TimeIntervals'>\n",
       "  }\n",
       "  keywords: ['behavior']\n",
       "  lab: B3\n",
       "  session_description: training session with behavioral task data, without precise timing information\n",
       "  session_id: 674723_2023-10-16\n",
       "  session_start_time: 2023-10-16 16:20:09-07:00\n",
       "  source_script: https://raw.githubusercontent.com/samgale/DynamicRoutingTask/c2b14223cbce1abda109b278f6f76e458dca3fe7/DynamicRouting1.py\n",
       "  source_script_file_name: https://github.com/AllenInstitute/npc_sessions/releases/tag/v0.0.105\n",
       "  stimulus_notes: stage 5 AMN ori moving\n",
       "  subject: subject pynwb.file.Subject at 0x2372262238672\n",
       "Fields:\n",
       "  age: P213D\n",
       "  age__reference: birth\n",
       "  date_of_birth: 2023-03-17 00:00:00-07:00\n",
       "  genotype: VGAT-ChR2\n",
       "  sex: F\n",
       "  species: Mus musculus\n",
       "  subject_id: 674723\n",
       "\n",
       "  timestamps_reference_time: 2023-10-16 16:20:09-07:00\n",
       "  trials: trials <class 'pynwb.epoch.TimeIntervals'>"
      ]
     },
     "execution_count": 5,
     "metadata": {},
     "output_type": "execute_result"
    }
   ],
   "source": [
    "session.nwb"
   ]
  },
  {
   "cell_type": "code",
   "execution_count": 3,
   "metadata": {},
   "outputs": [
    {
     "data": {
      "text/plain": [
       "dict_keys(['trials', 'performance', 'DynamicRouting1'])"
      ]
     },
     "execution_count": 3,
     "metadata": {},
     "output_type": "execute_result"
    }
   ],
   "source": [
    "session.intervals.keys()"
   ]
  },
  {
   "cell_type": "code",
   "execution_count": 9,
   "metadata": {},
   "outputs": [
    {
     "data": {
      "text/html": [
       "<div>\n",
       "<style scoped>\n",
       "    .dataframe tbody tr th:only-of-type {\n",
       "        vertical-align: middle;\n",
       "    }\n",
       "\n",
       "    .dataframe tbody tr th {\n",
       "        vertical-align: top;\n",
       "    }\n",
       "\n",
       "    .dataframe thead th {\n",
       "        text-align: right;\n",
       "    }\n",
       "</style>\n",
       "<table border=\"1\" class=\"dataframe\">\n",
       "  <thead>\n",
       "    <tr style=\"text-align: right;\">\n",
       "      <th></th>\n",
       "      <th>start_time</th>\n",
       "      <th>stop_time</th>\n",
       "      <th>notes</th>\n",
       "      <th>tags</th>\n",
       "    </tr>\n",
       "    <tr>\n",
       "      <th>id</th>\n",
       "      <th></th>\n",
       "      <th></th>\n",
       "      <th></th>\n",
       "      <th></th>\n",
       "    </tr>\n",
       "  </thead>\n",
       "  <tbody>\n",
       "    <tr>\n",
       "      <th>0</th>\n",
       "      <td>0.0</td>\n",
       "      <td>3652.836311</td>\n",
       "      <td></td>\n",
       "      <td>[DynamicRouting1, opto, rewards]</td>\n",
       "    </tr>\n",
       "  </tbody>\n",
       "</table>\n",
       "</div>"
      ],
      "text/plain": [
       "    start_time    stop_time notes                              tags\n",
       "id                                                                 \n",
       "0          0.0  3652.836311        [DynamicRouting1, opto, rewards]"
      ]
     },
     "execution_count": 9,
     "metadata": {},
     "output_type": "execute_result"
    }
   ],
   "source": [
    "session.epochs[:]"
   ]
  },
  {
   "cell_type": "code",
   "execution_count": 12,
   "metadata": {},
   "outputs": [
    {
     "name": "stdout",
     "output_type": "stream",
     "text": [
      "behavioral performance for each context block in task (refers to `trials` or `intervals['DynamicRouting1'])\n"
     ]
    },
    {
     "data": {
      "text/html": [
       "<div>\n",
       "<style scoped>\n",
       "    .dataframe tbody tr th:only-of-type {\n",
       "        vertical-align: middle;\n",
       "    }\n",
       "\n",
       "    .dataframe tbody tr th {\n",
       "        vertical-align: top;\n",
       "    }\n",
       "\n",
       "    .dataframe thead th {\n",
       "        text-align: right;\n",
       "    }\n",
       "</style>\n",
       "<table border=\"1\" class=\"dataframe\">\n",
       "  <thead>\n",
       "    <tr style=\"text-align: right;\">\n",
       "      <th></th>\n",
       "      <th>start_time</th>\n",
       "      <th>stop_time</th>\n",
       "      <th>block_index</th>\n",
       "      <th>context</th>\n",
       "      <th>cross_modal_dprime</th>\n",
       "      <th>signed_cross_modal_dprime</th>\n",
       "      <th>same_modal_dprime</th>\n",
       "      <th>nonrewarded_modal_dprime</th>\n",
       "      <th>vis_intra_dprime</th>\n",
       "      <th>aud_intra_dprime</th>\n",
       "    </tr>\n",
       "    <tr>\n",
       "      <th>id</th>\n",
       "      <th></th>\n",
       "      <th></th>\n",
       "      <th></th>\n",
       "      <th></th>\n",
       "      <th></th>\n",
       "      <th></th>\n",
       "      <th></th>\n",
       "      <th></th>\n",
       "      <th></th>\n",
       "      <th></th>\n",
       "    </tr>\n",
       "  </thead>\n",
       "  <tbody>\n",
       "    <tr>\n",
       "      <th>0</th>\n",
       "      <td>3.720853</td>\n",
       "      <td>607.965242</td>\n",
       "      <td>0</td>\n",
       "      <td>sound1</td>\n",
       "      <td>3.502658</td>\n",
       "      <td>-3.502658</td>\n",
       "      <td>3.531150</td>\n",
       "      <td>0.373205</td>\n",
       "      <td>0.373205</td>\n",
       "      <td>3.531150</td>\n",
       "    </tr>\n",
       "    <tr>\n",
       "      <th>1</th>\n",
       "      <td>610.033819</td>\n",
       "      <td>1215.495176</td>\n",
       "      <td>1</td>\n",
       "      <td>vis1</td>\n",
       "      <td>1.684584</td>\n",
       "      <td>1.684584</td>\n",
       "      <td>3.897895</td>\n",
       "      <td>1.873203</td>\n",
       "      <td>3.897895</td>\n",
       "      <td>1.873203</td>\n",
       "    </tr>\n",
       "    <tr>\n",
       "      <th>2</th>\n",
       "      <td>1215.595412</td>\n",
       "      <td>1824.792950</td>\n",
       "      <td>2</td>\n",
       "      <td>sound1</td>\n",
       "      <td>3.190051</td>\n",
       "      <td>-3.190051</td>\n",
       "      <td>2.905353</td>\n",
       "      <td>0.341099</td>\n",
       "      <td>0.341099</td>\n",
       "      <td>2.905353</td>\n",
       "    </tr>\n",
       "    <tr>\n",
       "      <th>3</th>\n",
       "      <td>1831.465261</td>\n",
       "      <td>2434.974954</td>\n",
       "      <td>3</td>\n",
       "      <td>vis1</td>\n",
       "      <td>1.834303</td>\n",
       "      <td>1.834303</td>\n",
       "      <td>3.897895</td>\n",
       "      <td>1.377781</td>\n",
       "      <td>3.897895</td>\n",
       "      <td>1.377781</td>\n",
       "    </tr>\n",
       "    <tr>\n",
       "      <th>4</th>\n",
       "      <td>2437.443327</td>\n",
       "      <td>3046.691135</td>\n",
       "      <td>4</td>\n",
       "      <td>sound1</td>\n",
       "      <td>3.219483</td>\n",
       "      <td>-3.219483</td>\n",
       "      <td>3.158572</td>\n",
       "      <td>0.656380</td>\n",
       "      <td>0.656380</td>\n",
       "      <td>3.158572</td>\n",
       "    </tr>\n",
       "    <tr>\n",
       "      <th>5</th>\n",
       "      <td>3046.991846</td>\n",
       "      <td>3649.050234</td>\n",
       "      <td>5</td>\n",
       "      <td>vis1</td>\n",
       "      <td>2.455901</td>\n",
       "      <td>2.455901</td>\n",
       "      <td>3.507725</td>\n",
       "      <td>1.321337</td>\n",
       "      <td>3.507725</td>\n",
       "      <td>1.321337</td>\n",
       "    </tr>\n",
       "  </tbody>\n",
       "</table>\n",
       "</div>"
      ],
      "text/plain": [
       "     start_time    stop_time  block_index context  cross_modal_dprime  \\\n",
       "id                                                                      \n",
       "0      3.720853   607.965242            0  sound1            3.502658   \n",
       "1    610.033819  1215.495176            1    vis1            1.684584   \n",
       "2   1215.595412  1824.792950            2  sound1            3.190051   \n",
       "3   1831.465261  2434.974954            3    vis1            1.834303   \n",
       "4   2437.443327  3046.691135            4  sound1            3.219483   \n",
       "5   3046.991846  3649.050234            5    vis1            2.455901   \n",
       "\n",
       "    signed_cross_modal_dprime  same_modal_dprime  nonrewarded_modal_dprime  \\\n",
       "id                                                                           \n",
       "0                   -3.502658           3.531150                  0.373205   \n",
       "1                    1.684584           3.897895                  1.873203   \n",
       "2                   -3.190051           2.905353                  0.341099   \n",
       "3                    1.834303           3.897895                  1.377781   \n",
       "4                   -3.219483           3.158572                  0.656380   \n",
       "5                    2.455901           3.507725                  1.321337   \n",
       "\n",
       "    vis_intra_dprime  aud_intra_dprime  \n",
       "id                                      \n",
       "0           0.373205          3.531150  \n",
       "1           3.897895          1.873203  \n",
       "2           0.341099          2.905353  \n",
       "3           3.897895          1.377781  \n",
       "4           0.656380          3.158572  \n",
       "5           3.507725          1.321337  "
      ]
     },
     "metadata": {},
     "output_type": "display_data"
    }
   ],
   "source": [
    "print(session.intervals['performance'].description)\n",
    "display(session.intervals['performance'][:])"
   ]
  },
  {
   "cell_type": "code",
   "execution_count": 22,
   "metadata": {},
   "outputs": [
    {
     "name": "stdout",
     "output_type": "stream",
     "text": [
      "visual-auditory task-switching behavior trials\n"
     ]
    },
    {
     "data": {
      "text/html": [
       "<div>\n",
       "<style scoped>\n",
       "    .dataframe tbody tr th:only-of-type {\n",
       "        vertical-align: middle;\n",
       "    }\n",
       "\n",
       "    .dataframe tbody tr th {\n",
       "        vertical-align: top;\n",
       "    }\n",
       "\n",
       "    .dataframe thead th {\n",
       "        text-align: right;\n",
       "    }\n",
       "</style>\n",
       "<table border=\"1\" class=\"dataframe\">\n",
       "  <thead>\n",
       "    <tr style=\"text-align: right;\">\n",
       "      <th></th>\n",
       "      <th>start_time</th>\n",
       "      <th>stop_time</th>\n",
       "      <th>quiescent_start_time</th>\n",
       "      <th>quiescent_stop_time</th>\n",
       "      <th>stim_start_time</th>\n",
       "      <th>stim_stop_time</th>\n",
       "      <th>opto_start_time</th>\n",
       "      <th>opto_stop_time</th>\n",
       "      <th>response_window_start_time</th>\n",
       "      <th>response_window_stop_time</th>\n",
       "      <th>...</th>\n",
       "      <th>is_catch</th>\n",
       "      <th>is_aud_target</th>\n",
       "      <th>is_vis_target</th>\n",
       "      <th>is_aud_nontarget</th>\n",
       "      <th>is_vis_nontarget</th>\n",
       "      <th>is_vis_context</th>\n",
       "      <th>is_aud_context</th>\n",
       "      <th>is_context_switch</th>\n",
       "      <th>is_repeat</th>\n",
       "      <th>is_opto</th>\n",
       "    </tr>\n",
       "    <tr>\n",
       "      <th>id</th>\n",
       "      <th></th>\n",
       "      <th></th>\n",
       "      <th></th>\n",
       "      <th></th>\n",
       "      <th></th>\n",
       "      <th></th>\n",
       "      <th></th>\n",
       "      <th></th>\n",
       "      <th></th>\n",
       "      <th></th>\n",
       "      <th></th>\n",
       "      <th></th>\n",
       "      <th></th>\n",
       "      <th></th>\n",
       "      <th></th>\n",
       "      <th></th>\n",
       "      <th></th>\n",
       "      <th></th>\n",
       "      <th></th>\n",
       "      <th></th>\n",
       "      <th></th>\n",
       "    </tr>\n",
       "  </thead>\n",
       "  <tbody>\n",
       "    <tr>\n",
       "      <th>0</th>\n",
       "      <td>3.720853</td>\n",
       "      <td>9.243129</td>\n",
       "      <td>3.720853</td>\n",
       "      <td>5.239639</td>\n",
       "      <td>5.239639</td>\n",
       "      <td>5.739639</td>\n",
       "      <td>NaN</td>\n",
       "      <td>NaN</td>\n",
       "      <td>5.323433</td>\n",
       "      <td>6.240619</td>\n",
       "      <td>...</td>\n",
       "      <td>False</td>\n",
       "      <td>True</td>\n",
       "      <td>False</td>\n",
       "      <td>False</td>\n",
       "      <td>False</td>\n",
       "      <td>False</td>\n",
       "      <td>True</td>\n",
       "      <td>False</td>\n",
       "      <td>False</td>\n",
       "      <td>False</td>\n",
       "    </tr>\n",
       "    <tr>\n",
       "      <th>1</th>\n",
       "      <td>10.427502</td>\n",
       "      <td>15.948696</td>\n",
       "      <td>10.427502</td>\n",
       "      <td>11.945201</td>\n",
       "      <td>11.945201</td>\n",
       "      <td>12.445201</td>\n",
       "      <td>NaN</td>\n",
       "      <td>NaN</td>\n",
       "      <td>12.028680</td>\n",
       "      <td>12.946130</td>\n",
       "      <td>...</td>\n",
       "      <td>False</td>\n",
       "      <td>True</td>\n",
       "      <td>False</td>\n",
       "      <td>False</td>\n",
       "      <td>False</td>\n",
       "      <td>False</td>\n",
       "      <td>True</td>\n",
       "      <td>False</td>\n",
       "      <td>False</td>\n",
       "      <td>False</td>\n",
       "    </tr>\n",
       "    <tr>\n",
       "      <th>2</th>\n",
       "      <td>17.316422</td>\n",
       "      <td>22.837956</td>\n",
       "      <td>17.316422</td>\n",
       "      <td>18.834854</td>\n",
       "      <td>18.834854</td>\n",
       "      <td>19.334854</td>\n",
       "      <td>NaN</td>\n",
       "      <td>NaN</td>\n",
       "      <td>18.918002</td>\n",
       "      <td>19.835282</td>\n",
       "      <td>...</td>\n",
       "      <td>False</td>\n",
       "      <td>True</td>\n",
       "      <td>False</td>\n",
       "      <td>False</td>\n",
       "      <td>False</td>\n",
       "      <td>False</td>\n",
       "      <td>True</td>\n",
       "      <td>False</td>\n",
       "      <td>False</td>\n",
       "      <td>False</td>\n",
       "    </tr>\n",
       "    <tr>\n",
       "      <th>3</th>\n",
       "      <td>23.155107</td>\n",
       "      <td>28.676501</td>\n",
       "      <td>23.155107</td>\n",
       "      <td>24.673197</td>\n",
       "      <td>24.673197</td>\n",
       "      <td>25.173197</td>\n",
       "      <td>NaN</td>\n",
       "      <td>NaN</td>\n",
       "      <td>24.756314</td>\n",
       "      <td>25.673491</td>\n",
       "      <td>...</td>\n",
       "      <td>False</td>\n",
       "      <td>True</td>\n",
       "      <td>False</td>\n",
       "      <td>False</td>\n",
       "      <td>False</td>\n",
       "      <td>False</td>\n",
       "      <td>True</td>\n",
       "      <td>False</td>\n",
       "      <td>False</td>\n",
       "      <td>False</td>\n",
       "    </tr>\n",
       "    <tr>\n",
       "      <th>4</th>\n",
       "      <td>32.962974</td>\n",
       "      <td>38.484333</td>\n",
       "      <td>32.962974</td>\n",
       "      <td>34.481124</td>\n",
       "      <td>34.481124</td>\n",
       "      <td>34.981124</td>\n",
       "      <td>NaN</td>\n",
       "      <td>NaN</td>\n",
       "      <td>34.564493</td>\n",
       "      <td>35.482080</td>\n",
       "      <td>...</td>\n",
       "      <td>False</td>\n",
       "      <td>True</td>\n",
       "      <td>False</td>\n",
       "      <td>False</td>\n",
       "      <td>False</td>\n",
       "      <td>False</td>\n",
       "      <td>True</td>\n",
       "      <td>False</td>\n",
       "      <td>False</td>\n",
       "      <td>False</td>\n",
       "    </tr>\n",
       "    <tr>\n",
       "      <th>...</th>\n",
       "      <td>...</td>\n",
       "      <td>...</td>\n",
       "      <td>...</td>\n",
       "      <td>...</td>\n",
       "      <td>...</td>\n",
       "      <td>...</td>\n",
       "      <td>...</td>\n",
       "      <td>...</td>\n",
       "      <td>...</td>\n",
       "      <td>...</td>\n",
       "      <td>...</td>\n",
       "      <td>...</td>\n",
       "      <td>...</td>\n",
       "      <td>...</td>\n",
       "      <td>...</td>\n",
       "      <td>...</td>\n",
       "      <td>...</td>\n",
       "      <td>...</td>\n",
       "      <td>...</td>\n",
       "      <td>...</td>\n",
       "      <td>...</td>\n",
       "    </tr>\n",
       "    <tr>\n",
       "      <th>528</th>\n",
       "      <td>3618.440595</td>\n",
       "      <td>3624.011909</td>\n",
       "      <td>3618.440595</td>\n",
       "      <td>3619.975536</td>\n",
       "      <td>3619.975536</td>\n",
       "      <td>3620.476072</td>\n",
       "      <td>NaN</td>\n",
       "      <td>NaN</td>\n",
       "      <td>3620.058750</td>\n",
       "      <td>3620.976009</td>\n",
       "      <td>...</td>\n",
       "      <td>False</td>\n",
       "      <td>False</td>\n",
       "      <td>False</td>\n",
       "      <td>False</td>\n",
       "      <td>True</td>\n",
       "      <td>True</td>\n",
       "      <td>False</td>\n",
       "      <td>False</td>\n",
       "      <td>False</td>\n",
       "      <td>False</td>\n",
       "    </tr>\n",
       "    <tr>\n",
       "      <th>529</th>\n",
       "      <td>3625.663559</td>\n",
       "      <td>3631.235058</td>\n",
       "      <td>3625.663559</td>\n",
       "      <td>3627.214633</td>\n",
       "      <td>3627.214633</td>\n",
       "      <td>3627.714633</td>\n",
       "      <td>NaN</td>\n",
       "      <td>NaN</td>\n",
       "      <td>3627.298461</td>\n",
       "      <td>3628.215501</td>\n",
       "      <td>...</td>\n",
       "      <td>False</td>\n",
       "      <td>True</td>\n",
       "      <td>False</td>\n",
       "      <td>False</td>\n",
       "      <td>False</td>\n",
       "      <td>True</td>\n",
       "      <td>False</td>\n",
       "      <td>False</td>\n",
       "      <td>False</td>\n",
       "      <td>False</td>\n",
       "    </tr>\n",
       "    <tr>\n",
       "      <th>530</th>\n",
       "      <td>3631.719120</td>\n",
       "      <td>3637.306608</td>\n",
       "      <td>3631.719120</td>\n",
       "      <td>3633.253021</td>\n",
       "      <td>3633.253021</td>\n",
       "      <td>3633.753021</td>\n",
       "      <td>NaN</td>\n",
       "      <td>NaN</td>\n",
       "      <td>3633.336477</td>\n",
       "      <td>3634.271230</td>\n",
       "      <td>...</td>\n",
       "      <td>False</td>\n",
       "      <td>True</td>\n",
       "      <td>False</td>\n",
       "      <td>False</td>\n",
       "      <td>False</td>\n",
       "      <td>True</td>\n",
       "      <td>False</td>\n",
       "      <td>False</td>\n",
       "      <td>False</td>\n",
       "      <td>False</td>\n",
       "    </tr>\n",
       "    <tr>\n",
       "      <th>531</th>\n",
       "      <td>3637.473479</td>\n",
       "      <td>3643.044656</td>\n",
       "      <td>3637.473479</td>\n",
       "      <td>3639.008428</td>\n",
       "      <td>3639.008428</td>\n",
       "      <td>3639.508428</td>\n",
       "      <td>NaN</td>\n",
       "      <td>NaN</td>\n",
       "      <td>3639.091515</td>\n",
       "      <td>3640.008880</td>\n",
       "      <td>...</td>\n",
       "      <td>False</td>\n",
       "      <td>False</td>\n",
       "      <td>False</td>\n",
       "      <td>True</td>\n",
       "      <td>False</td>\n",
       "      <td>True</td>\n",
       "      <td>False</td>\n",
       "      <td>False</td>\n",
       "      <td>False</td>\n",
       "      <td>False</td>\n",
       "    </tr>\n",
       "    <tr>\n",
       "      <th>532</th>\n",
       "      <td>3643.478820</td>\n",
       "      <td>3649.050234</td>\n",
       "      <td>3643.478820</td>\n",
       "      <td>3645.012957</td>\n",
       "      <td>3645.012957</td>\n",
       "      <td>3645.513454</td>\n",
       "      <td>NaN</td>\n",
       "      <td>NaN</td>\n",
       "      <td>3645.096796</td>\n",
       "      <td>3646.030841</td>\n",
       "      <td>...</td>\n",
       "      <td>False</td>\n",
       "      <td>False</td>\n",
       "      <td>False</td>\n",
       "      <td>False</td>\n",
       "      <td>True</td>\n",
       "      <td>True</td>\n",
       "      <td>False</td>\n",
       "      <td>False</td>\n",
       "      <td>False</td>\n",
       "      <td>False</td>\n",
       "    </tr>\n",
       "  </tbody>\n",
       "</table>\n",
       "<p>533 rows × 52 columns</p>\n",
       "</div>"
      ],
      "text/plain": [
       "      start_time    stop_time  quiescent_start_time  quiescent_stop_time  \\\n",
       "id                                                                         \n",
       "0       3.720853     9.243129              3.720853             5.239639   \n",
       "1      10.427502    15.948696             10.427502            11.945201   \n",
       "2      17.316422    22.837956             17.316422            18.834854   \n",
       "3      23.155107    28.676501             23.155107            24.673197   \n",
       "4      32.962974    38.484333             32.962974            34.481124   \n",
       "..           ...          ...                   ...                  ...   \n",
       "528  3618.440595  3624.011909           3618.440595          3619.975536   \n",
       "529  3625.663559  3631.235058           3625.663559          3627.214633   \n",
       "530  3631.719120  3637.306608           3631.719120          3633.253021   \n",
       "531  3637.473479  3643.044656           3637.473479          3639.008428   \n",
       "532  3643.478820  3649.050234           3643.478820          3645.012957   \n",
       "\n",
       "     stim_start_time  stim_stop_time  opto_start_time  opto_stop_time  \\\n",
       "id                                                                      \n",
       "0           5.239639        5.739639              NaN             NaN   \n",
       "1          11.945201       12.445201              NaN             NaN   \n",
       "2          18.834854       19.334854              NaN             NaN   \n",
       "3          24.673197       25.173197              NaN             NaN   \n",
       "4          34.481124       34.981124              NaN             NaN   \n",
       "..               ...             ...              ...             ...   \n",
       "528      3619.975536     3620.476072              NaN             NaN   \n",
       "529      3627.214633     3627.714633              NaN             NaN   \n",
       "530      3633.253021     3633.753021              NaN             NaN   \n",
       "531      3639.008428     3639.508428              NaN             NaN   \n",
       "532      3645.012957     3645.513454              NaN             NaN   \n",
       "\n",
       "     response_window_start_time  response_window_stop_time  ...  is_catch  \\\n",
       "id                                                          ...             \n",
       "0                      5.323433                   6.240619  ...     False   \n",
       "1                     12.028680                  12.946130  ...     False   \n",
       "2                     18.918002                  19.835282  ...     False   \n",
       "3                     24.756314                  25.673491  ...     False   \n",
       "4                     34.564493                  35.482080  ...     False   \n",
       "..                          ...                        ...  ...       ...   \n",
       "528                 3620.058750                3620.976009  ...     False   \n",
       "529                 3627.298461                3628.215501  ...     False   \n",
       "530                 3633.336477                3634.271230  ...     False   \n",
       "531                 3639.091515                3640.008880  ...     False   \n",
       "532                 3645.096796                3646.030841  ...     False   \n",
       "\n",
       "     is_aud_target  is_vis_target  is_aud_nontarget  is_vis_nontarget  \\\n",
       "id                                                                      \n",
       "0             True          False             False             False   \n",
       "1             True          False             False             False   \n",
       "2             True          False             False             False   \n",
       "3             True          False             False             False   \n",
       "4             True          False             False             False   \n",
       "..             ...            ...               ...               ...   \n",
       "528          False          False             False              True   \n",
       "529           True          False             False             False   \n",
       "530           True          False             False             False   \n",
       "531          False          False              True             False   \n",
       "532          False          False             False              True   \n",
       "\n",
       "     is_vis_context is_aud_context  is_context_switch is_repeat  is_opto  \n",
       "id                                                                        \n",
       "0             False           True              False     False    False  \n",
       "1             False           True              False     False    False  \n",
       "2             False           True              False     False    False  \n",
       "3             False           True              False     False    False  \n",
       "4             False           True              False     False    False  \n",
       "..              ...            ...                ...       ...      ...  \n",
       "528            True          False              False     False    False  \n",
       "529            True          False              False     False    False  \n",
       "530            True          False              False     False    False  \n",
       "531            True          False              False     False    False  \n",
       "532            True          False              False     False    False  \n",
       "\n",
       "[533 rows x 52 columns]"
      ]
     },
     "metadata": {},
     "output_type": "display_data"
    },
    {
     "name": "stdout",
     "output_type": "stream",
     "text": [
      "start_time: Start time of epoch, in seconds\n",
      "stop_time: Stop time of epoch, in seconds\n",
      "quiescent_start_time: start of interval in which the subject should not lick, otherwise the trial will start over; only the last quiescent interval (which was not violated) is included\n",
      "quiescent_stop_time: end of interval in which the subject should not lick, otherwise the trial will start over\n",
      "stim_start_time: onset of visual or auditory stimulus\n",
      "stim_stop_time: offset of visual or auditory stimulus\n",
      "opto_start_time: Onset of optogenetic inactivation\n",
      "opto_stop_time: offset of optogenetic inactivation\n",
      "response_window_start_time: start of interval in which the subject should lick if a GO trial, otherwise should not lick\n",
      "response_window_stop_time: end of interval in which the subject should lick if a GO trial, otherwise should not lick\n",
      "response_time: time of first lick within the response window; nan if no lick occurred\n",
      "reward_time: delivery time of water reward, for contingent and non-contingent rewards\n",
      "timeout_start_time: start of extended inter-trial interval added due to a false alarm\n",
      "timeout_stop_time: end of extended inter-trial interval\n",
      "post_response_window_start_time: start of null interval in which the subject awaits a new trial; may receive a non-contingent reward if scheduled\n",
      "post_response_window_stop_time: end of null interval\n",
      "stim_name: the stimulus presented; corresponds to a unique stimulus definition, randomized over trials\n",
      "block_index: 0-indexed block number, increments with each block\n",
      "context_name: indicates the rewarded modality in each block\n",
      "trial_index: 0-indexed trial number\n",
      "trial_index_in_block: \n",
      "opto_location_bregma_x: \n",
      "opto_location_bregma_y: \n",
      "opto_location_name: \n",
      "opto_power: \n",
      "opto_stim_name: stimulus presented during optogenetic inactivation, corresponding to keys in `stimulus` dict\n",
      "repeat_index: number of times the trial has already been presented in immediately preceding trials; counts repeats due to misses; nan for catch trials\n",
      "is_response: the subject licked one or more times during the response window\n",
      "is_correct: the subject acted correctly in the response window, according to its training; includes correct reject for catch trials\n",
      "is_incorrect: the subject acted incorrectly in the response window, according to its training; includes false alarm for catch trials\n",
      "is_hit: the subject responded in a GO trial\n",
      "is_false_alarm: the subject responded in a NOGO trial; excludes catch trials\n",
      "is_correct_reject: the subject did not respond in a NOGO trial; excludes catch trials\n",
      "is_miss: the subject did not respond in a GO trial\n",
      "is_go: condition in which the subject should respond; target stim presented in rewarded context block\n",
      "is_nogo: condition in which the subject should not respond; non-target stim presented in any context block; target stim presented in non-rewarded context block; excludes catch trials\n",
      "is_rewarded: the subject received a reward; includes non-contingent rewards\n",
      "is_noncontingent_reward: the subject received a reward that did not depend on its response\n",
      "is_contingent_reward: the subject received a reward for a correct response in a GO trial\n",
      "is_reward_scheduled: a non-contingent reward was scheduled to occur, regardless of whether it was received; subject may have responded correctly and received contingent reward instead\n",
      "is_aud_stim: an auditory stimulus was presented; includes target and non-target stimuli; includes rewarded and non-rewarded contexts; excludes catch trials (no stimulus)\n",
      "is_vis_stim: a visual stimulus was presented; includes target and non-target stimuli; includes rewarded and non-rewarded contexts; excludes catch trials (no stimulus)\n",
      "is_catch: no stimuli were presented\n",
      "is_aud_target: an auditory stimulus was presented that the subject should respond to only in a specific context\n",
      "is_vis_target: a visual stimulus was presented that the subject should respond to only in a specific context\n",
      "is_aud_nontarget: an auditory stimulus was presented that the subject should never respond to\n",
      "is_vis_nontarget: a visual stimulus was presented that the subject should never respond to\n",
      "is_vis_context: visual target stimuli are rewarded\n",
      "is_aud_context: auditory target stimuli are rewarded\n",
      "is_context_switch: the first trial with a stimulus after a change in context\n",
      "is_repeat: the trial is a repetition of the previous trial, due to a miss\n",
      "is_opto: optogenetic inactivation was applied during the trial\n"
     ]
    }
   ],
   "source": [
    "trials = session.intervals['DynamicRouting1']\n",
    "print(trials.description)\n",
    "display(trials[:])\n",
    "for column in trials.colnames:\n",
    "    print(f'{column}: {getattr(trials, column).description}')"
   ]
  },
  {
   "cell_type": "code",
   "execution_count": 15,
   "metadata": {},
   "outputs": [
    {
     "data": {
      "text/html": [
       "\n",
       "        <style>\n",
       "            .container-fields {\n",
       "                font-family: \"Open Sans\", Arial, sans-serif;\n",
       "            }\n",
       "            .container-fields .field-value {\n",
       "                color: #00788E;\n",
       "            }\n",
       "            .container-fields details > summary {\n",
       "                cursor: pointer;\n",
       "                display: list-item;\n",
       "            }\n",
       "            .container-fields details > summary:hover {\n",
       "                color: #0A6EAA;\n",
       "            }\n",
       "        </style>\n",
       "        \n",
       "        <script>\n",
       "            function copyToClipboard(text) {\n",
       "                navigator.clipboard.writeText(text).then(function() {\n",
       "                    console.log('Copied to clipboard: ' + text);\n",
       "                }, function(err) {\n",
       "                    console.error('Could not copy text: ', err);\n",
       "                });\n",
       "            }\n",
       "\n",
       "            document.addEventListener('DOMContentLoaded', function() {\n",
       "                let fieldKeys = document.querySelectorAll('.container-fields .field-key');\n",
       "                fieldKeys.forEach(function(fieldKey) {\n",
       "                    fieldKey.addEventListener('click', function() {\n",
       "                        let accessCode = fieldKey.getAttribute('title').replace('Access code: ', '');\n",
       "                        copyToClipboard(accessCode);\n",
       "                    });\n",
       "                });\n",
       "            });\n",
       "        </script>\n",
       "        <div class='container-wrap'><div class='container-header'><div class='xr-obj-type'><h3>root (NWBFile)</h3></div></div><div style=\"margin-left: 0px;\" class=\"container-fields\"><span class=\"field-key\" title=\".fields['session_description']\">session_description:</span> <span class=\"field-value\">training session with behavioral task data, with video recording of behavior</span></div><div style=\"margin-left: 0px;\" class=\"container-fields\"><span class=\"field-key\" title=\".fields['identifier']\">identifier:</span> <span class=\"field-value\">5fbe1f9c-7f16-4bcb-8c19-3ba92dde6241</span></div><div style=\"margin-left: 0px;\" class=\"container-fields\"><span class=\"field-key\" title=\".fields['session_start_time']\">session_start_time:</span> <span class=\"field-value\">2023-09-27 12:26:58-07:00</span></div><div style=\"margin-left: 0px;\" class=\"container-fields\"><span class=\"field-key\" title=\".fields['timestamps_reference_time']\">timestamps_reference_time:</span> <span class=\"field-value\">2023-09-27 12:26:58-07:00</span></div><details><summary style=\"display: list-item; margin-left: 0px;\" class=\"container-fields field-key\" title=\".fields['file_create_date']\"><b>file_create_date</b></summary><div style=\"margin-left: 20px;\" class=\"container-fields\"><span class=\"field-value\" title=\".fields['file_create_date'][0]\">2023-10-17 18:36:27.304742-07:00</span></div></details><details><summary style=\"display: list-item; margin-left: 0px;\" class=\"container-fields field-key\" title=\".fields['acquisition']\"><b>acquisition (6)</b></summary><details><summary style=\"display: list-item; margin-left: 20px;\" class=\"container-fields field-key\" title=\".fields['acquisition']['lick_sensor_rising']\"><b>lick_sensor_rising</b></summary><div style=\"margin-left: 40px;\" class=\"container-fields\"><span class=\"field-key\" title=\".fields['acquisition']['lick_sensor_rising'].fields['description']\">description:</span> <span class=\"field-value\">times at which the subject made contact with a water spout - putatively the starts of licks, but may include other events such as grooming</span></div><details><summary style=\"display: list-item; margin-left: 40px;\" class=\"container-fields field-key\" title=\".fields['acquisition']['lick_sensor_rising'].fields['timestamps']\"><b>timestamps</b></summary><div style=\"margin-left: 60px;\" class=\"container-fields\">[1949.93244 1951.15089 1951.58707 ... 6831.0289  6831.14294 6831.53404]</div></details><div style=\"margin-left: 40px;\" class=\"container-fields\"><span class=\"field-key\" title=\".fields['acquisition']['lick_sensor_rising'].fields['unit']\">unit:</span> <span class=\"field-value\">seconds</span></div></details><details><summary style=\"display: list-item; margin-left: 20px;\" class=\"container-fields field-key\" title=\".fields['acquisition']['lick_sensor_falling']\"><b>lick_sensor_falling</b></summary><div style=\"margin-left: 40px;\" class=\"container-fields\"><span class=\"field-key\" title=\".fields['acquisition']['lick_sensor_falling'].fields['description']\">description:</span> <span class=\"field-value\">times at which the subject ceased making contact with a water spout - putatively the ends of licks, but may include other events such as grooming</span></div><details><summary style=\"display: list-item; margin-left: 40px;\" class=\"container-fields field-key\" title=\".fields['acquisition']['lick_sensor_falling'].fields['timestamps']\"><b>timestamps</b></summary><div style=\"margin-left: 60px;\" class=\"container-fields\">[1949.96765 1951.20713 1951.6303  ... 6831.10013 6831.1791  6831.59727]</div></details><div style=\"margin-left: 40px;\" class=\"container-fields\"><span class=\"field-key\" title=\".fields['acquisition']['lick_sensor_falling'].fields['unit']\">unit:</span> <span class=\"field-value\">seconds</span></div></details><details><summary style=\"display: list-item; margin-left: 20px;\" class=\"container-fields field-key\" title=\".fields['acquisition']['rewards']\"><b>rewards</b></summary><div style=\"margin-left: 40px;\" class=\"container-fields\"><span class=\"field-key\" title=\".fields['acquisition']['rewards'].fields['description']\">description:</span> <span class=\"field-value\">individual water rewards delivered to the subject</span></div><details><summary style=\"display: list-item; margin-left: 40px;\" class=\"container-fields field-key\" title=\".fields['acquisition']['rewards'].fields['timestamps']\"><b>timestamps</b></summary><div style=\"margin-left: 60px;\" class=\"container-fields\">[2048.86746 2138.94298 2229.01848 2319.094   2409.16951 2499.24503</br> 2575.69245 2581.26379 2588.80339 2594.77511 2605.16709 2656.84379</br> 2664.95062 2700.09676 2717.92837 2740.99771 2771.08952 2813.29157</br> 2825.05148 2834.96    2895.54389 2947.57084 2999.06403 3017.89646</br> 3056.04506 3086.22038 3128.0222  3169.69035 3176.46274 3182.78469</br> 3190.29096 3196.06246 3202.8348  3208.2727  3279.44909 3320.78372</br> 3343.68621 3358.98243 3396.13017 3430.49237 3481.23484 3507.34007</br> 3513.34515 3638.21651 3649.85961 3661.9197  3675.49777 3681.4527</br> 3707.59128 3735.93174 3749.10946 3772.81265 3788.62588 3794.69763</br> 3800.50256 3807.50839 3813.36335 3833.88049 3881.03668 3898.80161</br> 3935.5824  3949.41072 3968.81033 3995.48265 4019.0858  4086.14201</br> 4117.73511 4181.87225 4312.58183 4318.8871  4341.25582 4352.13161</br> 4365.44276 4394.4505  4400.50553 4407.61147 4415.51819 4421.38971</br> 4433.08283 4452.18218 4494.05076 4512.8509  4567.89525 4599.11522</br> 4605.4337  4648.14651 4661.23511 4667.2162  4728.54706 4735.6042</br> 4768.26809 4799.63892 4805.3349  4883.10815 4889.79594 4948.78599</br> 4976.77679 5006.90185 5015.656   5021.06606 5032.9117  5039.24562</br> 5045.51193 5055.64289 5075.56972 5109.39162 5183.31863 5256.37054</br> 5290.67853 5296.35763 5326.8535  5341.52149 5394.29646 5450.3325</br> 5472.51131 5489.59962 5499.04252 5616.0052  5621.61757 5628.08673</br> 5633.78246 5640.58817 5704.40507 5719.61021 5727.47395 5775.49257</br> 5789.90824 5795.60424 5808.17112 5902.36406 5914.6969  5923.31698</br> 6005.09668 6012.99399 6038.7867  6094.87493 6117.22357 6143.46984</br> 6198.45158 6318.36321 6408.4387  6498.51422 6588.58967 6678.66521</br> 6768.74073]</div></details><div style=\"margin-left: 40px;\" class=\"container-fields\"><span class=\"field-key\" title=\".fields['acquisition']['rewards'].fields['unit']\">unit:</span> <span class=\"field-value\">seconds</span></div></details><details><summary style=\"display: list-item; margin-left: 20px;\" class=\"container-fields field-key\" title=\".fields['acquisition']['side_camera']\"><b>side_camera</b></summary><div style=\"margin-left: 40px;\" class=\"container-fields\"><span class=\"field-key\" title=\".fields['acquisition']['side_camera'].fields['description']\">description:</span> <span class=\"field-value\">start of video frame exposures for Behavior_20230927T122712.mp4</span></div><details><summary style=\"display: list-item; margin-left: 40px;\" class=\"container-fields field-key\" title=\".fields['acquisition']['side_camera'].fields['timestamps']\"><b>timestamps</b></summary><div style=\"margin-left: 60px;\" class=\"container-fields\">[       nan   13.81952   13.83618 ... 7301.95065 7301.96732 7301.98399]</div></details><div style=\"margin-left: 40px;\" class=\"container-fields\"><span class=\"field-key\" title=\".fields['acquisition']['side_camera'].fields['unit']\">unit:</span> <span class=\"field-value\">seconds</span></div></details><details><summary style=\"display: list-item; margin-left: 20px;\" class=\"container-fields field-key\" title=\".fields['acquisition']['front_camera']\"><b>front_camera</b></summary><div style=\"margin-left: 40px;\" class=\"container-fields\"><span class=\"field-key\" title=\".fields['acquisition']['front_camera'].fields['description']\">description:</span> <span class=\"field-value\">start of video frame exposures for Face_20230927T122712.mp4</span></div><details><summary style=\"display: list-item; margin-left: 40px;\" class=\"container-fields field-key\" title=\".fields['acquisition']['front_camera'].fields['timestamps']\"><b>timestamps</b></summary><div style=\"margin-left: 60px;\" class=\"container-fields\">[       nan   13.87447   13.89114 ... 7301.95092 7301.96758 7301.98425]</div></details><div style=\"margin-left: 40px;\" class=\"container-fields\"><span class=\"field-key\" title=\".fields['acquisition']['front_camera'].fields['unit']\">unit:</span> <span class=\"field-value\">seconds</span></div></details><details><summary style=\"display: list-item; margin-left: 20px;\" class=\"container-fields field-key\" title=\".fields['acquisition']['eye_camera']\"><b>eye_camera</b></summary><div style=\"margin-left: 40px;\" class=\"container-fields\"><span class=\"field-key\" title=\".fields['acquisition']['eye_camera'].fields['description']\">description:</span> <span class=\"field-value\">start of video frame exposures for Eye_20230927T122712.mp4</span></div><details><summary style=\"display: list-item; margin-left: 40px;\" class=\"container-fields field-key\" title=\".fields['acquisition']['eye_camera'].fields['timestamps']\"><b>timestamps</b></summary><div style=\"margin-left: 60px;\" class=\"container-fields\">[       nan   13.8356    13.85226 ... 7301.96391 7301.98056 7301.99724]</div></details><div style=\"margin-left: 40px;\" class=\"container-fields\"><span class=\"field-key\" title=\".fields['acquisition']['eye_camera'].fields['unit']\">unit:</span> <span class=\"field-value\">seconds</span></div></details></details><details><summary style=\"display: list-item; margin-left: 0px;\" class=\"container-fields field-key\" title=\".fields['analysis']\"><b>analysis (1)</b></summary><details><summary style=\"display: list-item; margin-left: 20px;\" class=\"container-fields field-key\" title=\".fields['analysis']['performance']\"><b>performance</b></summary><div style=\"margin-left: 40px;\" class=\"container-fields\"><span class=\"field-key\" title=\".fields['analysis']['performance'].fields['description']\">description:</span> <span class=\"field-value\">behavioral performance for each context block in task (refers to `trials` or `intervals['DynamicRouting1'])</span></div><details><summary style=\"display: list-item; margin-left: 40px;\" class=\"container-fields field-key\" title=\".fields['analysis']['performance'].fields['id']\"><b>id</b></summary></details><div style=\"margin-left: 40px;\" class=\"container-fields\"><span class=\"field-key\" title=\".fields['analysis']['performance'].fields['colnames']\">colnames:</span> <span class=\"field-value\">('start_time', 'stop_time', 'block_index', 'context', 'cross_modal_dprime', 'signed_cross_modal_dprime', 'same_modal_dprime', 'nonrewarded_modal_dprime', 'vis_intra_dprime', 'aud_intra_dprime')</span></div><div style=\"margin-left: 40px;\" class=\"container-fields\"><span class=\"field-key\" title=\".fields['analysis']['performance'].fields['columns']\">columns:</span> <span class=\"field-value\">(<hdmf.common.table.VectorData object at 0x000001C5290022D0>, <hdmf.common.table.VectorData object at 0x000001C529002CD0>, <hdmf.common.table.VectorData object at 0x000001C526E3E350>, <hdmf.common.table.VectorData object at 0x000001C5254E3910>, <hdmf.common.table.VectorData object at 0x000001C528FA4150>, <hdmf.common.table.VectorData object at 0x000001C5290E73D0>, <hdmf.common.table.VectorData object at 0x000001C528FCF490>, <hdmf.common.table.VectorData object at 0x000001C5143D2190>, <hdmf.common.table.VectorData object at 0x000001C525779110>, <hdmf.common.table.VectorData object at 0x000001C52553C750>)</span></div></details></details><details><summary style=\"display: list-item; margin-left: 0px;\" class=\"container-fields field-key\" title=\".fields['keywords']\"><b>keywords</b></summary><div style=\"margin-left: 20px;\" class=\"container-fields\"><span class=\"field-value\" title=\".fields['keywords'][0]\">behavior</span></div><div style=\"margin-left: 20px;\" class=\"container-fields\"><span class=\"field-value\" title=\".fields['keywords'][1]\">sync</span></div><div style=\"margin-left: 20px;\" class=\"container-fields\"><span class=\"field-value\" title=\".fields['keywords'][2]\">video</span></div></details><details><summary style=\"display: list-item; margin-left: 0px;\" class=\"container-fields field-key\" title=\".fields['processing']\"><b>processing (0)</b></summary></details><details><summary style=\"display: list-item; margin-left: 0px;\" class=\"container-fields field-key\" title=\".fields['epoch_tags']\"><b>epoch_tags</b></summary><div style=\"margin-left: 20px;\" class=\"container-fields\"><span class=\"field-value\" title=\".fields['epoch_tags'][0]\">RFMapping</span></div><div style=\"margin-left: 20px;\" class=\"container-fields\"><span class=\"field-value\" title=\".fields['epoch_tags'][1]\">DynamicRouting1</span></div><div style=\"margin-left: 20px;\" class=\"container-fields\"><span class=\"field-value\" title=\".fields['epoch_tags'][2]\">OptoTagging</span></div><div style=\"margin-left: 20px;\" class=\"container-fields\"><span class=\"field-value\" title=\".fields['epoch_tags'][3]\">Spontaneous</span></div><div style=\"margin-left: 20px;\" class=\"container-fields\"><span class=\"field-value\" title=\".fields['epoch_tags'][4]\">SpontaneousRewards</span></div></details><details><summary style=\"display: list-item; margin-left: 0px;\" class=\"container-fields field-key\" title=\".fields['devices']\"><b>devices (0)</b></summary></details><details><summary style=\"display: list-item; margin-left: 0px;\" class=\"container-fields field-key\" title=\".fields['intervals']\"><b>intervals (6)</b></summary><details><summary style=\"display: list-item; margin-left: 20px;\" class=\"container-fields field-key\" title=\".fields['intervals']['trials']\"><b>trials</b></summary><div style=\"margin-left: 40px;\" class=\"container-fields\"><span class=\"field-key\" title=\".fields['intervals']['trials'].fields['description']\">description:</span> <span class=\"field-value\">visual-auditory task-switching behavior trials</span></div><details><summary style=\"display: list-item; margin-left: 40px;\" class=\"container-fields field-key\" title=\".fields['intervals']['trials'].fields['id']\"><b>id</b></summary></details><div style=\"margin-left: 40px;\" class=\"container-fields\"><span class=\"field-key\" title=\".fields['intervals']['trials'].fields['colnames']\">colnames:</span> <span class=\"field-value\">('start_time', 'stop_time', 'quiescent_start_time', 'quiescent_stop_time', 'stim_start_time', 'stim_stop_time', 'opto_start_time', 'opto_stop_time', 'response_window_start_time', 'response_window_stop_time', 'response_time', 'reward_time', 'timeout_start_time', 'timeout_stop_time', 'post_response_window_start_time', 'post_response_window_stop_time', 'stim_name', 'block_index', 'context_name', 'trial_index', 'trial_index_in_block', 'opto_location_bregma_x', 'opto_location_bregma_y', 'opto_location_name', 'opto_power', 'opto_stim_name', 'repeat_index', 'is_response', 'is_correct', 'is_incorrect', 'is_hit', 'is_false_alarm', 'is_correct_reject', 'is_miss', 'is_go', 'is_nogo', 'is_rewarded', 'is_noncontingent_reward', 'is_contingent_reward', 'is_reward_scheduled', 'is_aud_stim', 'is_vis_stim', 'is_catch', 'is_aud_target', 'is_vis_target', 'is_aud_nontarget', 'is_vis_nontarget', 'is_vis_context', 'is_aud_context', 'is_context_switch', 'is_repeat', 'is_opto')</span></div><div style=\"margin-left: 40px;\" class=\"container-fields\"><span class=\"field-key\" title=\".fields['intervals']['trials'].fields['columns']\">columns:</span> <span class=\"field-value\">(<hdmf.common.table.VectorData object at 0x000001C5143DAC50>, <hdmf.common.table.VectorData object at 0x000001C514F52710>, <hdmf.common.table.VectorData object at 0x000001C514FD00D0>, <hdmf.common.table.VectorData object at 0x000001C514F74810>, <hdmf.common.table.VectorData object at 0x000001C514FED710>, <hdmf.common.table.VectorData object at 0x000001C5151DE9D0>, <hdmf.common.table.VectorData object at 0x000001C514F60C90>, <hdmf.common.table.VectorData object at 0x000001C514F52ED0>, <hdmf.common.table.VectorData object at 0x000001C514F63190>, <hdmf.common.table.VectorData object at 0x000001C514F60DD0>, <hdmf.common.table.VectorData object at 0x000001C514F52D90>, <hdmf.common.table.VectorData object at 0x000001C514F531D0>, <hdmf.common.table.VectorData object at 0x000001C514F52CD0>, <hdmf.common.table.VectorData object at 0x000001C514F50110>, <hdmf.common.table.VectorData object at 0x000001C514F53210>, <hdmf.common.table.VectorData object at 0x000001C514F50250>, <hdmf.common.table.VectorData object at 0x000001C514F50350>, <hdmf.common.table.VectorData object at 0x000001C514F50450>, <hdmf.common.table.VectorData object at 0x000001C514F50610>, <hdmf.common.table.VectorData object at 0x000001C514F532D0>, <hdmf.common.table.VectorData object at 0x000001C514F50790>, <hdmf.common.table.VectorData object at 0x000001C514F50890>, <hdmf.common.table.VectorData object at 0x000001C514F50990>, <hdmf.common.table.VectorData object at 0x000001C514F50A90>, <hdmf.common.table.VectorData object at 0x000001C514F50B90>, <hdmf.common.table.VectorData object at 0x000001C514F530D0>, <hdmf.common.table.VectorData object at 0x000001C514F50AD0>, <hdmf.common.table.VectorData object at 0x000001C514F50B10>, <hdmf.common.table.VectorData object at 0x000001C514F50C10>, <hdmf.common.table.VectorData object at 0x000001C514F50090>, <hdmf.common.table.VectorData object at 0x000001C514F3D590>, <hdmf.common.table.VectorData object at 0x000001C514F3D490>, <hdmf.common.table.VectorData object at 0x000001C514F3D610>, <hdmf.common.table.VectorData object at 0x000001C514F3D790>, <hdmf.common.table.VectorData object at 0x000001C514F3D150>, <hdmf.common.table.VectorData object at 0x000001C514F3D890>, <hdmf.common.table.VectorData object at 0x000001C514F3DA10>, <hdmf.common.table.VectorData object at 0x000001C514F3DB90>, <hdmf.common.table.VectorData object at 0x000001C514F3DCD0>, <hdmf.common.table.VectorData object at 0x000001C514F3DE50>, <hdmf.common.table.VectorData object at 0x000001C514F3DD50>, <hdmf.common.table.VectorData object at 0x000001C514F3DED0>, <hdmf.common.table.VectorData object at 0x000001C514F3E050>, <hdmf.common.table.VectorData object at 0x000001C514F3E1D0>, <hdmf.common.table.VectorData object at 0x000001C514F3E350>, <hdmf.common.table.VectorData object at 0x000001C514F3E250>, <hdmf.common.table.VectorData object at 0x000001C514F3E3D0>, <hdmf.common.table.VectorData object at 0x000001C514F3E510>, <hdmf.common.table.VectorData object at 0x000001C514F3DF10>, <hdmf.common.table.VectorData object at 0x000001C514F3E610>, <hdmf.common.table.VectorData object at 0x000001C514F3E790>, <hdmf.common.table.VectorData object at 0x000001C514F3E910>)</span></div></details><details><summary style=\"display: list-item; margin-left: 20px;\" class=\"container-fields field-key\" title=\".fields['intervals']['performance']\"><b>performance</b></summary><div style=\"margin-left: 40px;\" class=\"container-fields\"><span class=\"field-key\" title=\".fields['intervals']['performance'].fields['description']\">description:</span> <span class=\"field-value\">behavioral performance for each context block in task (refers to `trials` or `intervals['DynamicRouting1'])</span></div><details><summary style=\"display: list-item; margin-left: 40px;\" class=\"container-fields field-key\" title=\".fields['intervals']['performance'].fields['id']\"><b>id</b></summary></details><div style=\"margin-left: 40px;\" class=\"container-fields\"><span class=\"field-key\" title=\".fields['intervals']['performance'].fields['colnames']\">colnames:</span> <span class=\"field-value\">('start_time', 'stop_time', 'block_index', 'context', 'cross_modal_dprime', 'signed_cross_modal_dprime', 'same_modal_dprime', 'nonrewarded_modal_dprime', 'vis_intra_dprime', 'aud_intra_dprime')</span></div><div style=\"margin-left: 40px;\" class=\"container-fields\"><span class=\"field-key\" title=\".fields['intervals']['performance'].fields['columns']\">columns:</span> <span class=\"field-value\">(<hdmf.common.table.VectorData object at 0x000001C526E2CB90>, <hdmf.common.table.VectorData object at 0x000001C525787B90>, <hdmf.common.table.VectorData object at 0x000001C514F3F9D0>, <hdmf.common.table.VectorData object at 0x000001C52554D450>, <hdmf.common.table.VectorData object at 0x000001C525778310>, <hdmf.common.table.VectorData object at 0x000001C52577A810>, <hdmf.common.table.VectorData object at 0x000001C528F54B50>, <hdmf.common.table.VectorData object at 0x000001C528F6D990>, <hdmf.common.table.VectorData object at 0x000001C526E1F610>, <hdmf.common.table.VectorData object at 0x000001C5257EE090>)</span></div></details><details><summary style=\"display: list-item; margin-left: 20px;\" class=\"container-fields field-key\" title=\".fields['intervals']['DynamicRouting1']\"><b>DynamicRouting1</b></summary><div style=\"margin-left: 40px;\" class=\"container-fields\"><span class=\"field-key\" title=\".fields['intervals']['DynamicRouting1'].fields['description']\">description:</span> <span class=\"field-value\">visual-auditory task-switching behavior trials</span></div><details><summary style=\"display: list-item; margin-left: 40px;\" class=\"container-fields field-key\" title=\".fields['intervals']['DynamicRouting1'].fields['id']\"><b>id</b></summary></details><div style=\"margin-left: 40px;\" class=\"container-fields\"><span class=\"field-key\" title=\".fields['intervals']['DynamicRouting1'].fields['colnames']\">colnames:</span> <span class=\"field-value\">('start_time', 'stop_time', 'quiescent_start_time', 'quiescent_stop_time', 'stim_start_time', 'stim_stop_time', 'opto_start_time', 'opto_stop_time', 'response_window_start_time', 'response_window_stop_time', 'response_time', 'reward_time', 'timeout_start_time', 'timeout_stop_time', 'post_response_window_start_time', 'post_response_window_stop_time', 'stim_name', 'block_index', 'context_name', 'trial_index', 'trial_index_in_block', 'opto_location_bregma_x', 'opto_location_bregma_y', 'opto_location_name', 'opto_power', 'opto_stim_name', 'repeat_index', 'is_response', 'is_correct', 'is_incorrect', 'is_hit', 'is_false_alarm', 'is_correct_reject', 'is_miss', 'is_go', 'is_nogo', 'is_rewarded', 'is_noncontingent_reward', 'is_contingent_reward', 'is_reward_scheduled', 'is_aud_stim', 'is_vis_stim', 'is_catch', 'is_aud_target', 'is_vis_target', 'is_aud_nontarget', 'is_vis_nontarget', 'is_vis_context', 'is_aud_context', 'is_context_switch', 'is_repeat', 'is_opto')</span></div><div style=\"margin-left: 40px;\" class=\"container-fields\"><span class=\"field-key\" title=\".fields['intervals']['DynamicRouting1'].fields['columns']\">columns:</span> <span class=\"field-value\">(<hdmf.common.table.VectorData object at 0x000001C526E2DD90>, <hdmf.common.table.VectorData object at 0x000001C528F9C7D0>, <hdmf.common.table.VectorData object at 0x000001C528FBBB10>, <hdmf.common.table.VectorData object at 0x000001C525580D50>, <hdmf.common.table.VectorData object at 0x000001C514D1C050>, <hdmf.common.table.VectorData object at 0x000001C526E7A410>, <hdmf.common.table.VectorData object at 0x000001C514166F90>, <hdmf.common.table.VectorData object at 0x000001C5254E1890>, <hdmf.common.table.VectorData object at 0x000001C526E2F850>, <hdmf.common.table.VectorData object at 0x000001C525522A10>, <hdmf.common.table.VectorData object at 0x000001C528FC3550>, <hdmf.common.table.VectorData object at 0x000001C528FCDBD0>, <hdmf.common.table.VectorData object at 0x000001C528FCEF10>, <hdmf.common.table.VectorData object at 0x000001C528FCE850>, <hdmf.common.table.VectorData object at 0x000001C526ED6B10>, <hdmf.common.table.VectorData object at 0x000001C528FDABD0>, <hdmf.common.table.VectorData object at 0x000001C528FD8790>, <hdmf.common.table.VectorData object at 0x000001C528FDADD0>, <hdmf.common.table.VectorData object at 0x000001C528FDB810>, <hdmf.common.table.VectorData object at 0x000001C528FD8B90>, <hdmf.common.table.VectorData object at 0x000001C528FD9210>, <hdmf.common.table.VectorData object at 0x000001C528FDB710>, <hdmf.common.table.VectorData object at 0x000001C528FDB7D0>, <hdmf.common.table.VectorData object at 0x000001C528FD9010>, <hdmf.common.table.VectorData object at 0x000001C528FDA6D0>, <hdmf.common.table.VectorData object at 0x000001C528FDA310>, <hdmf.common.table.VectorData object at 0x000001C528FDAD10>, <hdmf.common.table.VectorData object at 0x000001C528FD9F10>, <hdmf.common.table.VectorData object at 0x000001C528FDAE10>, <hdmf.common.table.VectorData object at 0x000001C528FD9DD0>, <hdmf.common.table.VectorData object at 0x000001C528FDBE10>, <hdmf.common.table.VectorData object at 0x000001C528FD96D0>, <hdmf.common.table.VectorData object at 0x000001C528FD8750>, <hdmf.common.table.VectorData object at 0x000001C528FD8E10>, <hdmf.common.table.VectorData object at 0x000001C528FDB050>, <hdmf.common.table.VectorData object at 0x000001C528FD97D0>, <hdmf.common.table.VectorData object at 0x000001C528FD8D90>, <hdmf.common.table.VectorData object at 0x000001C528FDB210>, <hdmf.common.table.VectorData object at 0x000001C528FDB310>, <hdmf.common.table.VectorData object at 0x000001C528FD9590>, <hdmf.common.table.VectorData object at 0x000001C528FD8A50>, <hdmf.common.table.VectorData object at 0x000001C528FDAC50>, <hdmf.common.table.VectorData object at 0x000001C54EE34C10>, <hdmf.common.table.VectorData object at 0x000001C528FDA590>, <hdmf.common.table.VectorData object at 0x000001C528FD9190>, <hdmf.common.table.VectorData object at 0x000001C528FD87D0>, <hdmf.common.table.VectorData object at 0x000001C528FDBA90>, <hdmf.common.table.VectorData object at 0x000001C528FE0750>, <hdmf.common.table.VectorData object at 0x000001C528FE12D0>, <hdmf.common.table.VectorData object at 0x000001C528FE1650>, <hdmf.common.table.VectorData object at 0x000001C528FE3BD0>, <hdmf.common.table.VectorData object at 0x000001C528FE20D0>)</span></div></details><details><summary style=\"display: list-item; margin-left: 20px;\" class=\"container-fields field-key\" title=\".fields['intervals']['OptoTagging']\"><b>OptoTagging</b></summary><div style=\"margin-left: 40px;\" class=\"container-fields\"><span class=\"field-key\" title=\".fields['intervals']['OptoTagging'].fields['description']\">description:</span> <span class=\"field-value\">opto-tagging trials</span></div><details><summary style=\"display: list-item; margin-left: 40px;\" class=\"container-fields field-key\" title=\".fields['intervals']['OptoTagging'].fields['id']\"><b>id</b></summary></details><div style=\"margin-left: 40px;\" class=\"container-fields\"><span class=\"field-key\" title=\".fields['intervals']['OptoTagging'].fields['colnames']\">colnames:</span> <span class=\"field-value\">('start_time', 'stop_time', 'trial_index', 'stim_start_time', 'stim_stop_time', 'stim_name', 'duration', 'location', 'bregma_x', 'bregma_y', 'power')</span></div><div style=\"margin-left: 40px;\" class=\"container-fields\"><span class=\"field-key\" title=\".fields['intervals']['OptoTagging'].fields['columns']\">columns:</span> <span class=\"field-value\">(<hdmf.common.table.VectorData object at 0x000001C526E2C3D0>, <hdmf.common.table.VectorData object at 0x000001C526E2C050>, <hdmf.common.table.VectorData object at 0x000001C528FA7B90>, <hdmf.common.table.VectorData object at 0x000001C5290869D0>, <hdmf.common.table.VectorData object at 0x000001C529086F10>, <hdmf.common.table.VectorData object at 0x000001C529087410>, <hdmf.common.table.VectorData object at 0x000001C529087910>, <hdmf.common.table.VectorData object at 0x000001C529087790>, <hdmf.common.table.VectorData object at 0x000001C529087050>, <hdmf.common.table.VectorData object at 0x000001C529087E10>, <hdmf.common.table.VectorData object at 0x000001C529087DD0>)</span></div></details><details><summary style=\"display: list-item; margin-left: 20px;\" class=\"container-fields field-key\" title=\".fields['intervals']['AudRFMapping']\"><b>AudRFMapping</b></summary><div style=\"margin-left: 40px;\" class=\"container-fields\"><span class=\"field-key\" title=\".fields['intervals']['AudRFMapping'].fields['description']\">description:</span> <span class=\"field-value\">auditory receptive-field mapping trials</span></div><details><summary style=\"display: list-item; margin-left: 40px;\" class=\"container-fields field-key\" title=\".fields['intervals']['AudRFMapping'].fields['id']\"><b>id</b></summary></details><div style=\"margin-left: 40px;\" class=\"container-fields\"><span class=\"field-key\" title=\".fields['intervals']['AudRFMapping'].fields['colnames']\">colnames:</span> <span class=\"field-value\">('start_time', 'stop_time', 'stim_start_time', 'stim_stop_time', 'trial_index', 'is_AM_noise', 'is_pure_tone', 'freq')</span></div><div style=\"margin-left: 40px;\" class=\"container-fields\"><span class=\"field-key\" title=\".fields['intervals']['AudRFMapping'].fields['columns']\">columns:</span> <span class=\"field-value\">(<hdmf.common.table.VectorData object at 0x000001C5290DEB10>, <hdmf.common.table.VectorData object at 0x000001C5290DEA10>, <hdmf.common.table.VectorData object at 0x000001C529183ED0>, <hdmf.common.table.VectorData object at 0x000001C529183F10>, <hdmf.common.table.VectorData object at 0x000001C5257E1550>, <hdmf.common.table.VectorData object at 0x000001C529183FD0>, <hdmf.common.table.VectorData object at 0x000001C5290E3150>, <hdmf.common.table.VectorData object at 0x000001C529183F90>)</span></div></details><details><summary style=\"display: list-item; margin-left: 20px;\" class=\"container-fields field-key\" title=\".fields['intervals']['VisRFMapping']\"><b>VisRFMapping</b></summary><div style=\"margin-left: 40px;\" class=\"container-fields\"><span class=\"field-key\" title=\".fields['intervals']['VisRFMapping'].fields['description']\">description:</span> <span class=\"field-value\">visual receptive-field mapping trials</span></div><details><summary style=\"display: list-item; margin-left: 40px;\" class=\"container-fields field-key\" title=\".fields['intervals']['VisRFMapping'].fields['id']\"><b>id</b></summary></details><div style=\"margin-left: 40px;\" class=\"container-fields\"><span class=\"field-key\" title=\".fields['intervals']['VisRFMapping'].fields['colnames']\">colnames:</span> <span class=\"field-value\">('start_time', 'stop_time', 'stim_start_time', 'stim_stop_time', 'trial_index', 'is_small_field_grating', 'grating_orientation', 'grating_x', 'grating_y', 'is_full_field_flash', 'flash_contrast')</span></div><div style=\"margin-left: 40px;\" class=\"container-fields\"><span class=\"field-key\" title=\".fields['intervals']['VisRFMapping'].fields['columns']\">columns:</span> <span class=\"field-value\">(<hdmf.common.table.VectorData object at 0x000001C5290E89D0>, <hdmf.common.table.VectorData object at 0x000001C5290E8AD0>, <hdmf.common.table.VectorData object at 0x000001C528FC1950>, <hdmf.common.table.VectorData object at 0x000001C529098DD0>, <hdmf.common.table.VectorData object at 0x000001C5290CA490>, <hdmf.common.table.VectorData object at 0x000001C5257BC790>, <hdmf.common.table.VectorData object at 0x000001C52910CBD0>, <hdmf.common.table.VectorData object at 0x000001C529210F90>, <hdmf.common.table.VectorData object at 0x000001C529098E50>, <hdmf.common.table.VectorData object at 0x000001C52910C890>, <hdmf.common.table.VectorData object at 0x000001C5292110D0>)</span></div></details></details><details><summary style=\"display: list-item; margin-left: 0px;\" class=\"container-fields field-key\" title=\".fields['subject']\"><b>subject</b></summary><div style=\"margin-left: 20px;\" class=\"container-fields\"><span class=\"field-key\" title=\".fields['subject'].fields['age']\">age:</span> <span class=\"field-value\">P242D</span></div><div style=\"margin-left: 20px;\" class=\"container-fields\"><span class=\"field-key\" title=\".fields['subject'].fields['age__reference']\">age__reference:</span> <span class=\"field-value\">birth</span></div><div style=\"margin-left: 20px;\" class=\"container-fields\"><span class=\"field-key\" title=\".fields['subject'].fields['genotype']\">genotype:</span> <span class=\"field-value\">wt/wt</span></div><div style=\"margin-left: 20px;\" class=\"container-fields\"><span class=\"field-key\" title=\".fields['subject'].fields['sex']\">sex:</span> <span class=\"field-value\">F</span></div><div style=\"margin-left: 20px;\" class=\"container-fields\"><span class=\"field-key\" title=\".fields['subject'].fields['species']\">species:</span> <span class=\"field-value\">Mus musculus</span></div><div style=\"margin-left: 20px;\" class=\"container-fields\"><span class=\"field-key\" title=\".fields['subject'].fields['subject_id']\">subject_id:</span> <span class=\"field-value\">667252</span></div><div style=\"margin-left: 20px;\" class=\"container-fields\"><span class=\"field-key\" title=\".fields['subject'].fields['date_of_birth']\">date_of_birth:</span> <span class=\"field-value\">2023-01-27 20:23:01-08:00</span></div><div style=\"margin-left: 20px;\" class=\"container-fields\"><span class=\"field-key\" title=\".fields['subject'].fields['strain']\">strain:</span> <span class=\"field-value\">C57BL6J(NP)</span></div></details><details><summary style=\"display: list-item; margin-left: 0px;\" class=\"container-fields field-key\" title=\".fields['epochs']\"><b>epochs</b></summary><div style=\"margin-left: 20px;\" class=\"container-fields\"><span class=\"field-key\" title=\".fields['epochs'].fields['description']\">description:</span> <span class=\"field-value\">time intervals corresponding to different phases of the session</span></div><details><summary style=\"display: list-item; margin-left: 20px;\" class=\"container-fields field-key\" title=\".fields['epochs'].fields['id']\"><b>id</b></summary></details><div style=\"margin-left: 20px;\" class=\"container-fields\"><span class=\"field-key\" title=\".fields['epochs'].fields['colnames']\">colnames:</span> <span class=\"field-value\">('start_time', 'stop_time', 'notes', 'tags')</span></div><div style=\"margin-left: 20px;\" class=\"container-fields\"><span class=\"field-key\" title=\".fields['epochs'].fields['columns']\">columns:</span> <span class=\"field-value\">(<hdmf.common.table.VectorData object at 0x000001C54EE35810>, <hdmf.common.table.VectorData object at 0x000001C525799C50>, <hdmf.common.table.VectorData object at 0x000001C513FA6190>, <hdmf.common.table.VectorIndex object at 0x000001C528F9ECD0>, <hdmf.common.table.VectorData object at 0x000001C526E35990>)</span></div></details><details><summary style=\"display: list-item; margin-left: 0px;\" class=\"container-fields field-key\" title=\".fields['trials']\"><b>trials</b></summary><div style=\"margin-left: 20px;\" class=\"container-fields\"><span class=\"field-key\" title=\".fields['trials'].fields['description']\">description:</span> <span class=\"field-value\">visual-auditory task-switching behavior trials</span></div><details><summary style=\"display: list-item; margin-left: 20px;\" class=\"container-fields field-key\" title=\".fields['trials'].fields['id']\"><b>id</b></summary></details><div style=\"margin-left: 20px;\" class=\"container-fields\"><span class=\"field-key\" title=\".fields['trials'].fields['colnames']\">colnames:</span> <span class=\"field-value\">('start_time', 'stop_time', 'quiescent_start_time', 'quiescent_stop_time', 'stim_start_time', 'stim_stop_time', 'opto_start_time', 'opto_stop_time', 'response_window_start_time', 'response_window_stop_time', 'response_time', 'reward_time', 'timeout_start_time', 'timeout_stop_time', 'post_response_window_start_time', 'post_response_window_stop_time', 'stim_name', 'block_index', 'context_name', 'trial_index', 'trial_index_in_block', 'opto_location_bregma_x', 'opto_location_bregma_y', 'opto_location_name', 'opto_power', 'opto_stim_name', 'repeat_index', 'is_response', 'is_correct', 'is_incorrect', 'is_hit', 'is_false_alarm', 'is_correct_reject', 'is_miss', 'is_go', 'is_nogo', 'is_rewarded', 'is_noncontingent_reward', 'is_contingent_reward', 'is_reward_scheduled', 'is_aud_stim', 'is_vis_stim', 'is_catch', 'is_aud_target', 'is_vis_target', 'is_aud_nontarget', 'is_vis_nontarget', 'is_vis_context', 'is_aud_context', 'is_context_switch', 'is_repeat', 'is_opto')</span></div><div style=\"margin-left: 20px;\" class=\"container-fields\"><span class=\"field-key\" title=\".fields['trials'].fields['columns']\">columns:</span> <span class=\"field-value\">(<hdmf.common.table.VectorData object at 0x000001C5143DAC50>, <hdmf.common.table.VectorData object at 0x000001C514F52710>, <hdmf.common.table.VectorData object at 0x000001C514FD00D0>, <hdmf.common.table.VectorData object at 0x000001C514F74810>, <hdmf.common.table.VectorData object at 0x000001C514FED710>, <hdmf.common.table.VectorData object at 0x000001C5151DE9D0>, <hdmf.common.table.VectorData object at 0x000001C514F60C90>, <hdmf.common.table.VectorData object at 0x000001C514F52ED0>, <hdmf.common.table.VectorData object at 0x000001C514F63190>, <hdmf.common.table.VectorData object at 0x000001C514F60DD0>, <hdmf.common.table.VectorData object at 0x000001C514F52D90>, <hdmf.common.table.VectorData object at 0x000001C514F531D0>, <hdmf.common.table.VectorData object at 0x000001C514F52CD0>, <hdmf.common.table.VectorData object at 0x000001C514F50110>, <hdmf.common.table.VectorData object at 0x000001C514F53210>, <hdmf.common.table.VectorData object at 0x000001C514F50250>, <hdmf.common.table.VectorData object at 0x000001C514F50350>, <hdmf.common.table.VectorData object at 0x000001C514F50450>, <hdmf.common.table.VectorData object at 0x000001C514F50610>, <hdmf.common.table.VectorData object at 0x000001C514F532D0>, <hdmf.common.table.VectorData object at 0x000001C514F50790>, <hdmf.common.table.VectorData object at 0x000001C514F50890>, <hdmf.common.table.VectorData object at 0x000001C514F50990>, <hdmf.common.table.VectorData object at 0x000001C514F50A90>, <hdmf.common.table.VectorData object at 0x000001C514F50B90>, <hdmf.common.table.VectorData object at 0x000001C514F530D0>, <hdmf.common.table.VectorData object at 0x000001C514F50AD0>, <hdmf.common.table.VectorData object at 0x000001C514F50B10>, <hdmf.common.table.VectorData object at 0x000001C514F50C10>, <hdmf.common.table.VectorData object at 0x000001C514F50090>, <hdmf.common.table.VectorData object at 0x000001C514F3D590>, <hdmf.common.table.VectorData object at 0x000001C514F3D490>, <hdmf.common.table.VectorData object at 0x000001C514F3D610>, <hdmf.common.table.VectorData object at 0x000001C514F3D790>, <hdmf.common.table.VectorData object at 0x000001C514F3D150>, <hdmf.common.table.VectorData object at 0x000001C514F3D890>, <hdmf.common.table.VectorData object at 0x000001C514F3DA10>, <hdmf.common.table.VectorData object at 0x000001C514F3DB90>, <hdmf.common.table.VectorData object at 0x000001C514F3DCD0>, <hdmf.common.table.VectorData object at 0x000001C514F3DE50>, <hdmf.common.table.VectorData object at 0x000001C514F3DD50>, <hdmf.common.table.VectorData object at 0x000001C514F3DED0>, <hdmf.common.table.VectorData object at 0x000001C514F3E050>, <hdmf.common.table.VectorData object at 0x000001C514F3E1D0>, <hdmf.common.table.VectorData object at 0x000001C514F3E350>, <hdmf.common.table.VectorData object at 0x000001C514F3E250>, <hdmf.common.table.VectorData object at 0x000001C514F3E3D0>, <hdmf.common.table.VectorData object at 0x000001C514F3E510>, <hdmf.common.table.VectorData object at 0x000001C514F3DF10>, <hdmf.common.table.VectorData object at 0x000001C514F3E610>, <hdmf.common.table.VectorData object at 0x000001C514F3E790>, <hdmf.common.table.VectorData object at 0x000001C514F3E910>)</span></div></details><div style=\"margin-left: 0px;\" class=\"container-fields\"><span class=\"field-key\" title=\".fields['experiment_description']\">experiment_description:</span> <span class=\"field-value\">visual-auditory task-switching behavior experiment</span></div><div style=\"margin-left: 0px;\" class=\"container-fields\"><span class=\"field-key\" title=\".fields['session_id']\">session_id:</span> <span class=\"field-value\">667252_2023-09-27</span></div><div style=\"margin-left: 0px;\" class=\"container-fields\"><span class=\"field-key\" title=\".fields['lab']\">lab:</span> <span class=\"field-value\">NP3</span></div><div style=\"margin-left: 0px;\" class=\"container-fields\"><span class=\"field-key\" title=\".fields['source_script']\">source_script:</span> <span class=\"field-value\">https://raw.githubusercontent.com/samgale/DynamicRoutingTask//5112923a6f7145cf5b800a6a662b01de5e5f6364/DynamicRouting1.py</span></div><div style=\"margin-left: 0px;\" class=\"container-fields\"><span class=\"field-key\" title=\".fields['source_script_file_name']\">source_script_file_name:</span> <span class=\"field-value\">https://github.com/AllenInstitute/npc_sessions/releases/tag/v0.0.105</span></div><div style=\"margin-left: 0px;\" class=\"container-fields\"><span class=\"field-key\" title=\".fields['stimulus_notes']\">stimulus_notes:</span> <span class=\"field-value\">stage 5 AMN ori moving</span></div></div>"
      ],
      "text/plain": [
       "root pynwb.file.NWBFile at 0x1946245995472\n",
       "Fields:\n",
       "  acquisition: {\n",
       "    eye_camera <class 'ndx_events.events.Events'>,\n",
       "    front_camera <class 'ndx_events.events.Events'>,\n",
       "    lick_sensor_falling <class 'ndx_events.events.Events'>,\n",
       "    lick_sensor_rising <class 'ndx_events.events.Events'>,\n",
       "    rewards <class 'ndx_events.events.Events'>,\n",
       "    side_camera <class 'ndx_events.events.Events'>\n",
       "  }\n",
       "  analysis: {\n",
       "    performance <class 'pynwb.epoch.TimeIntervals'>\n",
       "  }\n",
       "  epoch_tags: ['RFMapping' 'DynamicRouting1' 'OptoTagging' 'Spontaneous'\n",
       " 'SpontaneousRewards']\n",
       "  epochs: epochs <class 'pynwb.epoch.TimeIntervals'>\n",
       "  experiment_description: visual-auditory task-switching behavior experiment\n",
       "  file_create_date: [datetime.datetime(2023, 10, 17, 18, 36, 27, 304742, tzinfo=tzlocal())]\n",
       "  identifier: 5fbe1f9c-7f16-4bcb-8c19-3ba92dde6241\n",
       "  intervals: {\n",
       "    AudRFMapping <class 'pynwb.epoch.TimeIntervals'>,\n",
       "    DynamicRouting1 <class 'pynwb.epoch.TimeIntervals'>,\n",
       "    OptoTagging <class 'pynwb.epoch.TimeIntervals'>,\n",
       "    VisRFMapping <class 'pynwb.epoch.TimeIntervals'>,\n",
       "    performance <class 'pynwb.epoch.TimeIntervals'>,\n",
       "    trials <class 'pynwb.epoch.TimeIntervals'>\n",
       "  }\n",
       "  keywords: ['behavior' 'sync' 'video']\n",
       "  lab: NP3\n",
       "  session_description: training session with behavioral task data, with video recording of behavior\n",
       "  session_id: 667252_2023-09-27\n",
       "  session_start_time: 2023-09-27 12:26:58-07:00\n",
       "  source_script: https://raw.githubusercontent.com/samgale/DynamicRoutingTask//5112923a6f7145cf5b800a6a662b01de5e5f6364/DynamicRouting1.py\n",
       "  source_script_file_name: https://github.com/AllenInstitute/npc_sessions/releases/tag/v0.0.105\n",
       "  stimulus_notes: stage 5 AMN ori moving\n",
       "  subject: subject pynwb.file.Subject at 0x1946249054416\n",
       "Fields:\n",
       "  age: P242D\n",
       "  age__reference: birth\n",
       "  date_of_birth: 2023-01-27 20:23:01-08:00\n",
       "  genotype: wt/wt\n",
       "  sex: F\n",
       "  species: Mus musculus\n",
       "  strain: C57BL6J(NP)\n",
       "  subject_id: 667252\n",
       "\n",
       "  timestamps_reference_time: 2023-09-27 12:26:58-07:00\n",
       "  trials: trials <class 'pynwb.epoch.TimeIntervals'>"
      ]
     },
     "execution_count": 15,
     "metadata": {},
     "output_type": "execute_result"
    }
   ],
   "source": [
    "session.nwb"
   ]
  }
 ],
 "metadata": {
  "kernelspec": {
   "display_name": ".venv",
   "language": "python",
   "name": "python3"
  },
  "language_info": {
   "codemirror_mode": {
    "name": "ipython",
    "version": 3
   },
   "file_extension": ".py",
   "mimetype": "text/x-python",
   "name": "python",
   "nbconvert_exporter": "python",
   "pygments_lexer": "ipython3",
   "version": "3.11.3"
  },
  "orig_nbformat": 4
 },
 "nbformat": 4,
 "nbformat_minor": 2
}
