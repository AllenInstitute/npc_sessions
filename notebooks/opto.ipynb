{
 "cells": [
  {
   "cell_type": "code",
   "execution_count": null,
   "metadata": {},
   "outputs": [],
   "source": [
    "import matplotlib.pyplot as plt\n",
    "import numpy as np\n",
    "import polars as pl\n",
    "import pandas as pd\n",
    "\n",
    "import npc_sessions"
   ]
  },
  {
   "cell_type": "code",
   "execution_count": null,
   "metadata": {},
   "outputs": [],
   "source": [
    "session = npc_sessions.Session('DRpilot_662892_20230821')\n",
    "session.subject.df['genotype']"
   ]
  },
  {
   "cell_type": "code",
   "execution_count": null,
   "metadata": {},
   "outputs": [],
   "source": [
    "tuple(session._intervals.keys())"
   ]
  },
  {
   "cell_type": "code",
   "execution_count": null,
   "metadata": {},
   "outputs": [],
   "source": [
    "fig, axes = session.sync_data.plot_diode_measured_sync_square_flips()\n",
    "stim_display_times = npc_sessions.get_stim_frame_times(*session.stim_paths, sync=session.sync_data)\n",
    "names = tuple(k for k, v in stim_display_times.items() if v is not None)\n",
    "for idx, ax in enumerate(axes):\n",
    "    ax.set_title(names[idx].stem.split('_')[0])\n",
    "fig.set_size_inches(12, 6)"
   ]
  },
  {
   "cell_type": "code",
   "execution_count": null,
   "metadata": {},
   "outputs": [],
   "source": [
    "import npc_sessions.utils as utils\n",
    "\n",
    "self = optotagging_trials\n",
    "onset_frame_times = utils.safe_index(\n",
    "    self._frame_times, self._hdf5[\"trialOptoOnsetFrame\"][self.trial_index]\n",
    ")\n",
    "onset_sync_time = self.start_time\n",
    "np.mean(onset_sync_time - onset_frame_times)"
   ]
  },
  {
   "cell_type": "code",
   "execution_count": null,
   "metadata": {},
   "outputs": [],
   "source": [
    "optotagging_trials = tuple(session._intervals[key] for key in session._intervals if 'OptoTagging' in key)\n",
    "optotagging_trials[1]._df"
   ]
  },
  {
   "cell_type": "code",
   "execution_count": null,
   "metadata": {},
   "outputs": [],
   "source": [
    "waveform = optotagging_trials._stim_recordings[0].presentation.waveform\n",
    "plt.plot(waveform.timestamps, waveform.samples)"
   ]
  },
  {
   "cell_type": "code",
   "execution_count": null,
   "metadata": {},
   "outputs": [],
   "source": [
    "units = npc_sessions.get_units_electrodes_spike_times(session.id).filter('default_qc')\n",
    "units"
   ]
  },
  {
   "cell_type": "code",
   "execution_count": null,
   "metadata": {},
   "outputs": [],
   "source": [
    "opto_locations = trials[['location']].unique()"
   ]
  },
  {
   "cell_type": "code",
   "execution_count": null,
   "metadata": {},
   "outputs": [],
   "source": [
    "import bisect\n",
    "import numpy as np\n",
    "import numpy.typing as npt\n",
    "import scipy.ndimage\n",
    "import nwbwidgets.analysis.spikes as spikes\n",
    "from typing import TypeVar, Sequence\n",
    "T = TypeVar('T', bound=np.generic)\n",
    "def extract_times(times: Sequence[T], start_time, stop_time) -> npt.NDArray[T]:\n",
    "    \"\"\"\n",
    "    >>> extract_times([0,1,1.5,2], 1, 2)\n",
    "    array([1. , 1.5, 2. ])\n",
    "    \"\"\"\n",
    "    start = bisect.bisect_left(times, start_time)\n",
    "    stop = bisect.bisect_right(times, stop_time, start)\n",
    "    return np.asarray(times[start:stop])\n"
   ]
  },
  {
   "cell_type": "code",
   "execution_count": null,
   "metadata": {},
   "outputs": [],
   "source": [
    "import polars as pl\n",
    "# lambda x: extract_times(x, 0, 100))\n",
    "start, stop = 948.39387, 948.59637 + 0.1\n",
    "f = (pl.element().where(pl.element().ge(start) & pl.element().le(stop))).rolling_sum() / stop-start\n",
    "out = units.select('unit_name', 'firing_rate', (pl.col('spike_times').list.eval(f, parallel=True).alias('resp'))).explode('resp')\n",
    "out.with_columns((pl.col('resp') - pl.col('firing_rate')).alias('delta_resp'))"
   ]
  },
  {
   "cell_type": "code",
   "execution_count": null,
   "metadata": {},
   "outputs": [],
   "source": [
    "import matplotlib.pyplot as plt\n",
    "import numpy as np\n",
    "units: pl.DataFrame\n",
    "\n",
    "dfs = [t._df.with_columns((pl.col('stop_time') - pl.col('start_time')).round(4).alias('duration')) for t in optotagging_trials]\n",
    "durations = pl.concat(dfs)['duration'].unique().sort().to_list()\n",
    "\n",
    "\n",
    "for probe_letter, peak_channel, spike_times in units.sort('peak_channel', descending=False).select(pl.col('device_name').str.strip('Probe'), 'peak_channel', 'spike_times').iter_rows():\n",
    "    fig, axes = plt.subplots(len(durations), len(dfs), figsize=(12, 6))\n",
    "    \n",
    "    for hidx, (df, haxes) in enumerate(zip(dfs, axes.T)):\n",
    "        trials = df.filter(pl.col('location').str.contains(probe_letter))\n",
    "        if trials.is_empty():\n",
    "            continue\n",
    "        spike_times = np.array(spike_times)\n",
    "        # align_on = 'response_window_start_time'\n",
    "        onset_column = 'start_time'\n",
    "        offset_column = 'stop_time'\n",
    "        \n",
    "        for vidx, (ax, duration) in enumerate(zip(haxes, durations)):\n",
    "            # ax.sharex(haxes[0])\n",
    "            pad_start = .03 \n",
    "            pad_end = .6 - duration\n",
    "            _trials = trials.filter(pl.col('duration') == duration)\n",
    "            if _trials.is_empty():\n",
    "                continue\n",
    "            # print(_trials)\n",
    "            on = _trials[onset_column] - pad_start\n",
    "            off = _trials[offset_column] + pad_end\n",
    "            ax.eventplot(\n",
    "                    [spike_times[a:b] - on[idx] - pad_start \n",
    "                    for idx, (a, b)\n",
    "                    in enumerate(zip(np.searchsorted(spike_times, on), np.searchsorted(spike_times, off)))]\n",
    "                )\n",
    "            # ax.axvline(0, color=[.8]*3, linestyle='--')\n",
    "            offset_time = (_trials[offset_column][0] - _trials[onset_column][0])\n",
    "            ax.set(xmargin=0, ymargin=0, xlim=[-pad_start, offset_time + pad_end])\n",
    "            ax.add_patch(plt.Rectangle((0, ax.get_ylim()[0]), offset_time, np.diff(ax.get_ylim()).item(), color=[.8]*3, alpha=.5))\n",
    "            ax.set(xticks=[0, offset_time, offset_time + pad_end])\n",
    "            plt.setp(ax.get_xticklabels(), rotation=30)\n",
    "            if vidx == len(dfs) - 1:\n",
    "                ax.set(xlabel='time, s')    \n",
    "            else:\n",
    "                ax.set(xticklabels=[])\n",
    "            plt.tight_layout()\n",
    "            ax.set_title(f\"{trials['start_time'].min():.2f} : {trials['stop_time'].max():.2f} s\", fontsize=6)\n",
    "            \n",
    "            if hidx == 0:\n",
    "                ax.set(ylabel='trials')\n",
    "            else:\n",
    "                ax.set(yticklabels=[])\n",
    "            \n",
    "    plt.suptitle(\n",
    "        f\"Probe {probe_letter}, peak channel = {peak_channel}, laser Bregma = ({_trials['bregma_x'][0]:.2f}, {_trials['bregma_y'][0]:.2f})\",\n",
    "        fontsize=6,\n",
    "        )\n",
    "    plt.show()"
   ]
  },
  {
   "cell_type": "code",
   "execution_count": null,
   "metadata": {},
   "outputs": [],
   "source": []
  }
 ],
 "metadata": {
  "kernelspec": {
   "display_name": ".venv",
   "language": "python",
   "name": "python3"
  },
  "language_info": {
   "codemirror_mode": {
    "name": "ipython",
    "version": 3
   },
   "file_extension": ".py",
   "mimetype": "text/x-python",
   "name": "python",
   "nbconvert_exporter": "python",
   "pygments_lexer": "ipython3",
   "version": "3.11.3"
  },
  "orig_nbformat": 4
 },
 "nbformat": 4,
 "nbformat_minor": 2
}
