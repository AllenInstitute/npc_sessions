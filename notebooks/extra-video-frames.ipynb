{
 "cells": [
  {
   "cell_type": "markdown",
   "metadata": {},
   "source": [
    "showing data for the latest recording on NP.3, which is representative of\n",
    "recordings over the past few weeks"
   ]
  },
  {
   "cell_type": "code",
   "execution_count": 1,
   "metadata": {},
   "outputs": [
    {
     "data": {
      "text/plain": [
       "'2023-10-05'"
      ]
     },
     "execution_count": 1,
     "metadata": {},
     "output_type": "execute_result"
    }
   ],
   "source": [
    "import itertools\n",
    "\n",
    "import npc_sessions\n",
    "\n",
    "latest_session = next(npc_sessions.get_sessions())\n",
    "latest_session.root_path = latest_session.info.allen_path\n",
    "latest_session.id.date"
   ]
  },
  {
   "cell_type": "code",
   "execution_count": 2,
   "metadata": {},
   "outputs": [
    {
     "name": "stdout",
     "output_type": "stream",
     "text": [
      "\\\\allen\\programs\\mindscope\\workgroups\\dynamicrouting\\PilotEphys\\Task 2 pilot\\DRpilot_674562_20231005\\Behavior_20231005T121410.json\n",
      "\\\\allen\\programs\\mindscope\\workgroups\\dynamicrouting\\PilotEphys\\Task 2 pilot\\DRpilot_674562_20231005\\Eye_20231005T121410.json\n",
      "\\\\allen\\programs\\mindscope\\workgroups\\dynamicrouting\\PilotEphys\\Task 2 pilot\\DRpilot_674562_20231005\\Face_20231005T121410.json\n",
      "\\\\allen\\programs\\mindscope\\workgroups\\dynamicrouting\\PilotEphys\\Task 2 pilot\\DRpilot_674562_20231005\\Behavior_20231005T121410.mp4\n",
      "\\\\allen\\programs\\mindscope\\workgroups\\dynamicrouting\\PilotEphys\\Task 2 pilot\\DRpilot_674562_20231005\\Eye_20231005T121410.mp4\n",
      "\\\\allen\\programs\\mindscope\\workgroups\\dynamicrouting\\PilotEphys\\Task 2 pilot\\DRpilot_674562_20231005\\Face_20231005T121410.mp4\n",
      "\\\\allen\\programs\\mindscope\\workgroups\\dynamicrouting\\PilotEphys\\Task 2 pilot\\DRpilot_674562_20231005\\20231005T121356.h5\n"
     ]
    }
   ],
   "source": [
    "for path in itertools.chain(latest_session.video_info_paths, latest_session.video_paths, [latest_session.sync_path]):\n",
    "    print(path)"
   ]
  },
  {
   "cell_type": "code",
   "execution_count": 3,
   "metadata": {},
   "outputs": [
    {
     "name": "stdout",
     "output_type": "stream",
     "text": [
      "behavior\n",
      "\tinfo_json['FramesRecorded'] = 423403\n",
      "\tinfo_json['FramesLostCount'] = 2\n",
      "\tframes_in_video_file = 423404\n",
      "\trising_edges_in_sync = {'beh_cam_exposing': 423379, 'beh_cam_frame_readout': 423379}\n",
      "eye\n",
      "\tinfo_json['FramesRecorded'] = 423405\n",
      "\tinfo_json['FramesLostCount'] = 3\n",
      "\tframes_in_video_file = 423406\n",
      "\trising_edges_in_sync = {'eye_cam_exposing': 423380, 'eye_cam_frame_readout': 423379}\n",
      "face\n",
      "\tinfo_json['FramesRecorded'] = 423413\n",
      "\tinfo_json['FramesLostCount'] = 1\n",
      "\tframes_in_video_file = 423414\n",
      "\trising_edges_in_sync = {'face_cam_exposing': 423382, 'face_cam_frame_readout': 423382}\n"
     ]
    }
   ],
   "source": [
    "for (camera_name, info_json), video_path in zip(latest_session.video_info_data.items(), latest_session.video_paths):\n",
    "    assert npc_sessions.extract_camera_name(video_path) == camera_name\n",
    "    rising_edges_in_sync = {}\n",
    "    for line_suffix in (\"_cam_exposing\", \"_cam_frame_readout\"):\n",
    "        line = next(line for line in latest_session.sync_data.line_labels if line_suffix in line and npc_sessions.extract_camera_name(line) == camera_name)\n",
    "        rising_edges_in_sync[line] = len(latest_session.sync_data.get_rising_edges(line, units=\"seconds\"))\n",
    "        frames_in_video_file = npc_sessions.get_total_frames_in_video(video_path)\n",
    "    print(f\"{camera_name}\\n\\t{info_json['FramesRecorded'] = }\\n\\t{info_json['FramesLostCount'] = }\\n\\t{frames_in_video_file = }\\n\\t{rising_edges_in_sync = }\")"
   ]
  },
  {
   "cell_type": "markdown",
   "metadata": {},
   "source": [
    "note the discrepancy between number of rising edges in sync and the number of frames in the\n",
    "video file \n",
    "\n",
    "--- "
   ]
  },
  {
   "cell_type": "markdown",
   "metadata": {},
   "source": [
    "info json for each camera: "
   ]
  },
  {
   "cell_type": "code",
   "execution_count": 4,
   "metadata": {},
   "outputs": [
    {
     "data": {
      "text/plain": [
       "{'Recording Report Version': '1.0',\n",
       " 'Acquisition DateTime': '10/05/23 14:11:47',\n",
       " 'MVR Version': '1.1.5+gdbb75c4.b150844',\n",
       " 'CameraIndex': 'Camera 1',\n",
       " 'CameraLabel': 'Behavior',\n",
       " 'CameraID': 'DEV_000F315C1498',\n",
       " 'FPS': 60.0024,\n",
       " 'CameraGain': 4,\n",
       " 'CustomInitialExposureTime': 1,\n",
       " 'CustomInitialNumberOfFrames': 10,\n",
       " 'ExposureTime': 3,\n",
       " 'ImageDimensions': '658x492',\n",
       " 'BinningFactors': '1x1',\n",
       " 'MovieID': '5cf0dbfc-63b3-11ee-96a9-00d0c9fb2dad',\n",
       " 'VideoOutputFileName': 'C:\\\\ProgramData\\\\AIBS_MPE\\\\mvr\\\\data\\\\.\\\\Behavior_20231005T121410.mp4',\n",
       " 'Codec': 'h264_nvenc',\n",
       " 'FrameID imprint enabled': 'true',\n",
       " 'FrameID imprint box coordinates (pixels)': {'xOffset': '0',\n",
       "  'yOffset': '0',\n",
       "  'width': '105',\n",
       "  'height': '3'},\n",
       " 'ApproximateFileSize': '1722592.259 KB',\n",
       " 'h264': {'CRF': '17', 'Preset': 'medium', 'HardwareAcceleration': 'cuvid'},\n",
       " 'FFMPEGInputPixelFormat': 'gray',\n",
       " 'FFMPEGOutputPixelFormat': 'yuv420p',\n",
       " 'TimeStart': '2023-10-05T12:14:10Z',\n",
       " 'TimeEnd': '2023-10-05T14:11:47Z',\n",
       " 'MaxNumberOfQueuedFrames': 1,\n",
       " 'NumberOfQueuedFramesIntervals': 0,\n",
       " 'Duration': '01:57:36',\n",
       " 'FramesRecorded': 423403,\n",
       " 'FramesLostCount': 2,\n",
       " 'CameraInputCount': 0,\n",
       " 'LostFrames': ['13-14'],\n",
       " 'CameraInput': ['1,0']}"
      ]
     },
     "metadata": {},
     "output_type": "display_data"
    },
    {
     "data": {
      "text/plain": [
       "{'Recording Report Version': '1.0',\n",
       " 'Acquisition DateTime': '10/05/23 14:11:47',\n",
       " 'MVR Version': '1.1.5+gdbb75c4.b150844',\n",
       " 'CameraIndex': 'Camera 2',\n",
       " 'CameraLabel': 'Eye',\n",
       " 'CameraID': 'DEV_000F315C1494',\n",
       " 'FPS': 60.0024,\n",
       " 'CameraGain': 22,\n",
       " 'CustomInitialExposureTime': 2,\n",
       " 'CustomInitialNumberOfFrames': 10,\n",
       " 'ExposureTime': 16,\n",
       " 'ImageDimensions': '658x492',\n",
       " 'BinningFactors': '1x1',\n",
       " 'MovieID': '5cfa03b2-63b3-11ee-aa70-00d0c9fb2dad',\n",
       " 'VideoOutputFileName': 'C:\\\\ProgramData\\\\AIBS_MPE\\\\mvr\\\\data\\\\.\\\\Eye_20231005T121410.mp4',\n",
       " 'Codec': 'h264_nvenc',\n",
       " 'FrameID imprint enabled': 'true',\n",
       " 'FrameID imprint box coordinates (pixels)': {'xOffset': '0',\n",
       "  'yOffset': '0',\n",
       "  'width': '105',\n",
       "  'height': '3'},\n",
       " 'ApproximateFileSize': '1721283.739 KB',\n",
       " 'h264': {'CRF': '17', 'Preset': 'medium', 'HardwareAcceleration': 'cuvid'},\n",
       " 'FFMPEGInputPixelFormat': 'gray',\n",
       " 'FFMPEGOutputPixelFormat': 'yuv420p',\n",
       " 'TimeStart': '2023-10-05T12:14:10Z',\n",
       " 'TimeEnd': '2023-10-05T14:11:47Z',\n",
       " 'MaxNumberOfQueuedFrames': 1,\n",
       " 'NumberOfQueuedFramesIntervals': 0,\n",
       " 'Duration': '01:57:36',\n",
       " 'FramesRecorded': 423405,\n",
       " 'FramesLostCount': 3,\n",
       " 'CameraInputCount': 0,\n",
       " 'LostFrames': ['13-15'],\n",
       " 'CameraInput': ['1,0']}"
      ]
     },
     "metadata": {},
     "output_type": "display_data"
    },
    {
     "data": {
      "text/plain": [
       "{'Recording Report Version': '1.0',\n",
       " 'Acquisition DateTime': '10/05/23 14:11:47',\n",
       " 'MVR Version': '1.1.5+gdbb75c4.b150844',\n",
       " 'CameraIndex': 'Camera 3',\n",
       " 'CameraLabel': 'Face',\n",
       " 'CameraID': 'DEV_000F315CD699',\n",
       " 'FPS': 60.0024,\n",
       " 'CameraGain': 13,\n",
       " 'CustomInitialExposureTime': 3,\n",
       " 'CustomInitialNumberOfFrames': 10,\n",
       " 'ExposureTime': 3,\n",
       " 'ImageDimensions': '658x492',\n",
       " 'BinningFactors': '1x1',\n",
       " 'MovieID': '5d004cc2-63b3-11ee-80ee-00d0c9fb2dad',\n",
       " 'VideoOutputFileName': 'C:\\\\ProgramData\\\\AIBS_MPE\\\\mvr\\\\data\\\\.\\\\Face_20231005T121410.mp4',\n",
       " 'Codec': 'h264_nvenc',\n",
       " 'FrameID imprint enabled': 'true',\n",
       " 'FrameID imprint box coordinates (pixels)': {'xOffset': '0',\n",
       "  'yOffset': '0',\n",
       "  'width': '105',\n",
       "  'height': '3'},\n",
       " 'ApproximateFileSize': '1722537.329 KB',\n",
       " 'h264': {'CRF': '17', 'Preset': 'medium', 'HardwareAcceleration': 'cuvid'},\n",
       " 'FFMPEGInputPixelFormat': 'gray',\n",
       " 'FFMPEGOutputPixelFormat': 'yuv420p',\n",
       " 'TimeStart': '2023-10-05T12:14:10Z',\n",
       " 'TimeEnd': '2023-10-05T14:11:47Z',\n",
       " 'MaxNumberOfQueuedFrames': 1,\n",
       " 'NumberOfQueuedFramesIntervals': 0,\n",
       " 'Duration': '01:57:36',\n",
       " 'FramesRecorded': 423413,\n",
       " 'FramesLostCount': 1,\n",
       " 'CameraInputCount': 0,\n",
       " 'LostFrames': ['13'],\n",
       " 'CameraInput': ['1,0']}"
      ]
     },
     "metadata": {},
     "output_type": "display_data"
    }
   ],
   "source": [
    "for data in latest_session.video_info_data.values():\n",
    "    display(data)"
   ]
  }
 ],
 "metadata": {
  "kernelspec": {
   "display_name": ".venv",
   "language": "python",
   "name": "python3"
  },
  "language_info": {
   "codemirror_mode": {
    "name": "ipython",
    "version": 3
   },
   "file_extension": ".py",
   "mimetype": "text/x-python",
   "name": "python",
   "nbconvert_exporter": "python",
   "pygments_lexer": "ipython3",
   "version": "3.11.3"
  },
  "orig_nbformat": 4
 },
 "nbformat": 4,
 "nbformat_minor": 2
}
